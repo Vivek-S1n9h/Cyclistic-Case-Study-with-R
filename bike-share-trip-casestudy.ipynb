{
 "cells": [
  {
   "attachments": {
    "0926b145-610c-4e7c-8674-cbc1035faf58.PNG": {
     "image/png": "[encoded data removed]"
    }
   },
   "cell_type": "markdown",
   "id": "282a954e",
   "metadata": {
    "papermill": {
     "duration": 0.013402,
     "end_time": "2024-01-14T15:32:06.140966",
     "exception": false,
     "start_time": "2024-01-14T15:32:06.127564",
     "status": "completed"
    },
    "tags": []
   },
   "source": [
    "# **Bike-share Case Study for year 2019**\n",
    "\n",
    "![logo.PNG](attachment:0926b145-610c-4e7c-8674-cbc1035faf58.PNG)\n",
    "\n",
    "# Table of Contents\n",
    "\n",
    "* [1. Summary & Ask](#summary)\n",
    "\n",
    "* [2. Prepare](#prepare)\n",
    "\n",
    "* [3. Process](#process)\n",
    "\n",
    "* [4. Analyze](#analyze)\n",
    "\n",
    "* [5. Share](#share)\n",
    "\n",
    "* [6. Act](#act)\n",
    "\n",
    "\n",
    "# 1. Summary  <a class=\"anchor\"  id=\"summary\"></a>\n",
    "\n",
    "## 1.1 Scenario\n",
    "\n",
    "You are a junior data analyst working in the marketing analyst team at Cyclistic, a bike-share company in Chicago. The director of marketing believes the company’s future success depends on maximizing the number of annual memberships. Therefore, your team wants to understand how casual riders and annual members use Cyclistic bikes differently. From these insights, your team will design a new marketing strategy to convert casual riders into annual members. But first, Cyclistic executives must approve your recommendations, so they must be backed up with compelling data insights and professional data visualizations.\n",
    "\n",
    "## 1.2 Characters and Teams\n",
    "\n",
    "- **Cyclistic:** A bike-share program featuring more than 5,800 bicycles and 600 docking stations. Cyclistic sets itself apart by offering reclining bikes, hand tricycles, and cargo bikes, making bike-share more inclusive to people with disabilities and riders who can’t use a standard two-wheeled bike. The majority of riders opt for traditional bikes; about 8% of riders use the assistive options. Cyclistic users are more likely to ride for leisure, but about 30% use them to commute to work each day.\n",
    "  \n",
    "- **Lily Moreno:** The director of marketing and your manager. Moreno is responsible for the development of campaigns and initiatives to promote the bike-share program. These may include email, social media, and other channels.\n",
    "  \n",
    "- **Cyclistic Marketing Analytics Team:** A team of data analysts responsible for collecting, analyzing, and reporting data that helps guide Cyclistic marketing strategy. You joined this team six months ago and have been busy learning about Cyclistic’s mission and business goals — as well as how you, as a junior data analyst, can help Cyclistic achieve them.\n",
    "  \n",
    "- **Cyclistic Executive Team:** The notoriously detail-oriented executive team will decide whether to approve the recommended marketing program.\n",
    "\n",
    "### About the Company\n",
    "\n",
    "In 2016, Cyclistic launched a successful bike-share offering. Since then, the program has grown to a fleet of 5,824 bicycles that are geotracked and locked into a network of 692 stations across Chicago. The bikes can be unlocked from one station and returned to any other station in the system anytime.\n",
    "\n",
    "Until now, Cyclistic’s marketing strategy relied on building general awareness and appealing to broad consumer segments. One approach that helped make these things possible was the flexibility of its pricing plans: single-ride passes, full-day passes, and annual memberships. Customers who purchase single-ride or full-day passes are referred to as casual riders. Customers who purchase annual memberships are Cyclistic members.\n",
    "\n",
    "Cyclistic’s finance analysts have concluded that annual members are much more profitable than casual riders. Although the pricing flexibility helps Cyclistic attract more customers, Moreno believes that maximizing the number of annual members will be key to future growth. Rather than creating a marketing campaign that targets all-new customers, Moreno believes there is a very good chance to convert casual riders into members. She notes that casual riders are already aware of the Cyclistic program and have chosen Cyclistic for their mobility needs.\n",
    "\n",
    "Moreno has set a clear goal: Design marketing strategies aimed at converting casual riders into annual members. In order to do that, however, the marketing analyst team needs to better understand how annual members and casual riders differ, why casual riders would buy a membership, and how digital media could affect their marketing tactics. Moreno and her team are interested in analyzing the Cyclistic historical bike trip data to identify trends."
   ]
  },
  {
   "cell_type": "markdown",
   "id": "aeb9a697",
   "metadata": {
    "papermill": {
     "duration": 0.012671,
     "end_time": "2024-01-14T15:32:06.167002",
     "exception": false,
     "start_time": "2024-01-14T15:32:06.154331",
     "status": "completed"
    },
    "tags": []
   },
   "source": [
    "# 2. Collect and Load Data <a class=\"anchor\"  id=\"data\"></a>\n",
    "\n",
    "### 2.1 Install and load required libraries"
   ]
  },
  {
   "cell_type": "code",
   "execution_count": 1,
   "id": "e31cfa7d",
   "metadata": {
    "_execution_state": "idle",
    "_uuid": "051d70d956493feee0c6d64651c6a088724dca2a",
    "execution": {
     "iopub.execute_input": "2024-01-14T15:32:06.198642Z",
     "iopub.status.busy": "2024-01-14T15:32:06.195839Z",
     "iopub.status.idle": "2024-01-14T15:32:07.501889Z",
     "shell.execute_reply": "2024-01-14T15:32:07.499878Z"
    },
    "papermill": {
     "duration": 1.324537,
     "end_time": "2024-01-14T15:32:07.504793",
     "exception": false,
     "start_time": "2024-01-14T15:32:06.180256",
     "status": "completed"
    },
    "tags": []
   },
   "outputs": [
    {
     "name": "stderr",
     "output_type": "stream",
     "text": [
      "── \u001b[1mAttaching core tidyverse packages\u001b[22m ──────────────────────── tidyverse 2.0.0 ──\n",
      "\u001b[32m✔\u001b[39m \u001b[34mdplyr    \u001b[39m 1.1.4     \u001b[32m✔\u001b[39m \u001b[34mreadr    \u001b[39m 2.1.4\n",
      "\u001b[32m✔\u001b[39m \u001b[34mforcats  \u001b[39m 1.0.0     \u001b[32m✔\u001b[39m \u001b[34mstringr  \u001b[39m 1.5.1\n",
      "\u001b[32m✔\u001b[39m \u001b[34mggplot2  \u001b[39m 3.4.4     \u001b[32m✔\u001b[39m \u001b[34mtibble   \u001b[39m 3.2.1\n",
      "\u001b[32m✔\u001b[39m \u001b[34mlubridate\u001b[39m 1.9.3     \u001b[32m✔\u001b[39m \u001b[34mtidyr    \u001b[39m 1.3.0\n",
      "\u001b[32m✔\u001b[39m \u001b[34mpurrr    \u001b[39m 1.0.2     \n",
      "── \u001b[1mConflicts\u001b[22m ────────────────────────────────────────── tidyverse_conflicts() ──\n",
      "\u001b[31m✖\u001b[39m \u001b[34mdplyr\u001b[39m::\u001b[32mfilter()\u001b[39m masks \u001b[34mstats\u001b[39m::filter()\n",
      "\u001b[31m✖\u001b[39m \u001b[34mdplyr\u001b[39m::\u001b[32mlag()\u001b[39m    masks \u001b[34mstats\u001b[39m::lag()\n",
      "\u001b[36mℹ\u001b[39m Use the conflicted package (\u001b[3m\u001b[34m<http://conflicted.r-lib.org/>\u001b[39m\u001b[23m) to force all conflicts to become errors\n"
     ]
    },
    {
     "data": {
      "text/html": [
       "'bikeshare-trips-2019'"
      ],
      "text/latex": [
       "'bikeshare-trips-2019'"
      ],
      "text/markdown": [
       "'bikeshare-trips-2019'"
      ],
      "text/plain": [
       "[1] \"bikeshare-trips-2019\""
      ]
     },
     "metadata": {},
     "output_type": "display_data"
    }
   ],
   "source": [
    "# This R environment comes with many helpful analytics packages installed\n",
    "# It is defined by the kaggle/rstats Docker image: https://github.com/kaggle/docker-rstats\n",
    "# For example, here's a helpful package to load\n",
    "\n",
    "# Install and load required libraries\n",
    "library(tidyverse)  #helps wrangle data - metapackage of all tidyverse packages\n",
    "library(lubridate)  #helps wrangle date attributes\n",
    "library(ggplot2)  #helps visualize data\n",
    "\n",
    "# Input data files are available in the read-only \"../input/\" directory\n",
    "# For example, running this (by clicking run or pressing Shift+Enter) will list all files under the input directory\n",
    "\n",
    "list.files(path = \"../input\")\n",
    "\n",
    "# You can write up to 20GB to the current directory (/kaggle/working/) that gets preserved as output when you create a version using \"Save & Run All\" \n",
    "# You can also write temporary files to /kaggle/temp/, but they won't be saved outside of the current session"
   ]
  },
  {
   "cell_type": "markdown",
   "id": "7e5c01b5",
   "metadata": {
    "papermill": {
     "duration": 0.013393,
     "end_time": "2024-01-14T15:32:07.532142",
     "exception": false,
     "start_time": "2024-01-14T15:32:07.518749",
     "status": "completed"
    },
    "tags": []
   },
   "source": [
    "### 2.2 Collect and load Bike-share data of year 2019"
   ]
  },
  {
   "cell_type": "code",
   "execution_count": 2,
   "id": "0f2877d4",
   "metadata": {
    "_kg_hide-input": true,
    "_kg_hide-output": false,
    "collapsed": true,
    "execution": {
     "iopub.execute_input": "2024-01-14T15:32:07.594485Z",
     "iopub.status.busy": "2024-01-14T15:32:07.560511Z",
     "iopub.status.idle": "2024-01-14T15:32:17.179417Z",
     "shell.execute_reply": "2024-01-14T15:32:17.176920Z"
    },
    "jupyter": {
     "outputs_hidden": true
    },
    "papermill": {
     "duration": 9.638392,
     "end_time": "2024-01-14T15:32:17.183388",
     "exception": false,
     "start_time": "2024-01-14T15:32:07.544996",
     "status": "completed"
    },
    "tags": []
   },
   "outputs": [
    {
     "name": "stderr",
     "output_type": "stream",
     "text": [
      "\u001b[1mRows: \u001b[22m\u001b[34m365069\u001b[39m \u001b[1mColumns: \u001b[22m\u001b[34m12\u001b[39m\n",
      "\u001b[36m──\u001b[39m \u001b[1mColumn specification\u001b[22m \u001b[36m────────────────────────────────────────────────────────\u001b[39m\n",
      "\u001b[1mDelimiter:\u001b[22m \",\"\n",
      "\u001b[31mchr\u001b[39m  (4): from_station_name, to_station_name, usertype, gender\n",
      "\u001b[32mdbl\u001b[39m  (5): trip_id, bikeid, from_station_id, to_station_id, birthyear\n",
      "\u001b[32mnum\u001b[39m  (1): tripduration\n",
      "\u001b[34mdttm\u001b[39m (2): start_time, end_time\n",
      "\n",
      "\u001b[36mℹ\u001b[39m Use `spec()` to retrieve the full column specification for this data.\n",
      "\u001b[36mℹ\u001b[39m Specify the column types or set `show_col_types = FALSE` to quiet this message.\n",
      "\u001b[1mRows: \u001b[22m\u001b[34m1108163\u001b[39m \u001b[1mColumns: \u001b[22m\u001b[34m12\u001b[39m\n",
      "\u001b[36m──\u001b[39m \u001b[1mColumn specification\u001b[22m \u001b[36m────────────────────────────────────────────────────────\u001b[39m\n",
      "\u001b[1mDelimiter:\u001b[22m \",\"\n",
      "\u001b[31mchr\u001b[39m  (4): 03 - Rental Start Station Name, 02 - Rental End Station Name, User...\n",
      "\u001b[32mdbl\u001b[39m  (5): 01 - Rental Details Rental ID, 01 - Rental Details Bike ID, 03 - R...\n",
      "\u001b[32mnum\u001b[39m  (1): 01 - Rental Details Duration In Seconds Uncapped\n",
      "\u001b[34mdttm\u001b[39m (2): 01 - Rental Details Local Start Time, 01 - Rental Details Local En...\n",
      "\n",
      "\u001b[36mℹ\u001b[39m Use `spec()` to retrieve the full column specification for this data.\n",
      "\u001b[36mℹ\u001b[39m Specify the column types or set `show_col_types = FALSE` to quiet this message.\n",
      "\u001b[1mRows: \u001b[22m\u001b[34m1640718\u001b[39m \u001b[1mColumns: \u001b[22m\u001b[34m12\u001b[39m\n",
      "\u001b[36m──\u001b[39m \u001b[1mColumn specification\u001b[22m \u001b[36m────────────────────────────────────────────────────────\u001b[39m\n",
      "\u001b[1mDelimiter:\u001b[22m \",\"\n",
      "\u001b[31mchr\u001b[39m  (4): from_station_name, to_station_name, usertype, gender\n",
      "\u001b[32mdbl\u001b[39m  (5): trip_id, bikeid, from_station_id, to_station_id, birthyear\n",
      "\u001b[32mnum\u001b[39m  (1): tripduration\n",
      "\u001b[34mdttm\u001b[39m (2): start_time, end_time\n",
      "\n",
      "\u001b[36mℹ\u001b[39m Use `spec()` to retrieve the full column specification for this data.\n",
      "\u001b[36mℹ\u001b[39m Specify the column types or set `show_col_types = FALSE` to quiet this message.\n",
      "\u001b[1mRows: \u001b[22m\u001b[34m704054\u001b[39m \u001b[1mColumns: \u001b[22m\u001b[34m12\u001b[39m\n",
      "\u001b[36m──\u001b[39m \u001b[1mColumn specification\u001b[22m \u001b[36m────────────────────────────────────────────────────────\u001b[39m\n",
      "\u001b[1mDelimiter:\u001b[22m \",\"\n",
      "\u001b[31mchr\u001b[39m  (4): from_station_name, to_station_name, usertype, gender\n",
      "\u001b[32mdbl\u001b[39m  (5): trip_id, bikeid, from_station_id, to_station_id, birthyear\n",
      "\u001b[32mnum\u001b[39m  (1): tripduration\n",
      "\u001b[34mdttm\u001b[39m (2): start_time, end_time\n",
      "\n",
      "\u001b[36mℹ\u001b[39m Use `spec()` to retrieve the full column specification for this data.\n",
      "\u001b[36mℹ\u001b[39m Specify the column types or set `show_col_types = FALSE` to quiet this message.\n"
     ]
    }
   ],
   "source": [
    "# Load data for each quarter\n",
    "q1_2019 <- read_csv(\"/kaggle/input/bikeshare-trips-2019/Divvy_Trips_2019_Q1.csv\")\n",
    "q2_2019 <- read_csv(\"/kaggle/input/bikeshare-trips-2019/Divvy_Trips_2019_Q2.csv\")\n",
    "q3_2019 <- read_csv(\"/kaggle/input/bikeshare-trips-2019/Divvy_Trips_2019_Q3.csv\")\n",
    "q4_2019 <- read_csv(\"/kaggle/input/bikeshare-trips-2019/Divvy_Trips_2019_Q4.csv\")"
   ]
  },
  {
   "cell_type": "code",
   "execution_count": 3,
   "id": "7a13c73b",
   "metadata": {
    "execution": {
     "iopub.execute_input": "2024-01-14T15:32:17.215881Z",
     "iopub.status.busy": "2024-01-14T15:32:17.214058Z",
     "iopub.status.idle": "2024-01-14T15:32:17.383908Z",
     "shell.execute_reply": "2024-01-14T15:32:17.382059Z"
    },
    "jupyter": {
     "source_hidden": true
    },
    "papermill": {
     "duration": 0.189097,
     "end_time": "2024-01-14T15:32:17.386650",
     "exception": false,
     "start_time": "2024-01-14T15:32:17.197553",
     "status": "completed"
    },
    "tags": []
   },
   "outputs": [
    {
     "data": {
      "text/html": [
       "<table class=\"dataframe\">\n",
       "<caption>A tibble: 6 × 12</caption>\n",
       "<thead>\n",
       "\t<tr><th scope=col>trip_id</th><th scope=col>start_time</th><th scope=col>end_time</th><th scope=col>bikeid</th><th scope=col>tripduration</th><th scope=col>from_station_id</th><th scope=col>from_station_name</th><th scope=col>to_station_id</th><th scope=col>to_station_name</th><th scope=col>usertype</th><th scope=col>gender</th><th scope=col>birthyear</th></tr>\n",
       "\t<tr><th scope=col>&lt;dbl&gt;</th><th scope=col>&lt;dttm&gt;</th><th scope=col>&lt;dttm&gt;</th><th scope=col>&lt;dbl&gt;</th><th scope=col>&lt;dbl&gt;</th><th scope=col>&lt;dbl&gt;</th><th scope=col>&lt;chr&gt;</th><th scope=col>&lt;dbl&gt;</th><th scope=col>&lt;chr&gt;</th><th scope=col>&lt;chr&gt;</th><th scope=col>&lt;chr&gt;</th><th scope=col>&lt;dbl&gt;</th></tr>\n",
       "</thead>\n",
       "<tbody>\n",
       "\t<tr><td>21742443</td><td>2019-01-01 00:04:37</td><td>2019-01-01 00:11:07</td><td>2167</td><td> 390</td><td>199</td><td><span style=white-space:pre-wrap>Wabash Ave &amp; Grand Ave             </span></td><td> 84</td><td><span style=white-space:pre-wrap>Milwaukee Ave &amp; Grand Ave     </span></td><td>Subscriber</td><td><span style=white-space:pre-wrap>Male  </span></td><td>1989</td></tr>\n",
       "\t<tr><td>21742444</td><td>2019-01-01 00:08:13</td><td>2019-01-01 00:15:34</td><td>4386</td><td> 441</td><td> 44</td><td><span style=white-space:pre-wrap>State St &amp; Randolph St             </span></td><td>624</td><td>Dearborn St &amp; Van Buren St (*)</td><td>Subscriber</td><td>Female</td><td>1990</td></tr>\n",
       "\t<tr><td>21742445</td><td>2019-01-01 00:13:23</td><td>2019-01-01 00:27:12</td><td>1524</td><td> 829</td><td> 15</td><td><span style=white-space:pre-wrap>Racine Ave &amp; 18th St               </span></td><td>644</td><td>Western Ave &amp; Fillmore St (*) </td><td>Subscriber</td><td>Female</td><td>1994</td></tr>\n",
       "\t<tr><td>21742446</td><td>2019-01-01 00:13:45</td><td>2019-01-01 00:43:28</td><td> 252</td><td>1783</td><td>123</td><td><span style=white-space:pre-wrap>California Ave &amp; Milwaukee Ave     </span></td><td>176</td><td><span style=white-space:pre-wrap>Clark St &amp; Elm St             </span></td><td>Subscriber</td><td><span style=white-space:pre-wrap>Male  </span></td><td>1993</td></tr>\n",
       "\t<tr><td>21742447</td><td>2019-01-01 00:14:52</td><td>2019-01-01 00:20:56</td><td>1170</td><td> 364</td><td>173</td><td>Mies van der Rohe Way &amp; Chicago Ave</td><td> 35</td><td><span style=white-space:pre-wrap>Streeter Dr &amp; Grand Ave       </span></td><td>Subscriber</td><td><span style=white-space:pre-wrap>Male  </span></td><td>1994</td></tr>\n",
       "\t<tr><td>21742448</td><td>2019-01-01 00:15:33</td><td>2019-01-01 00:19:09</td><td>2437</td><td> 216</td><td> 98</td><td><span style=white-space:pre-wrap>LaSalle St &amp; Washington St         </span></td><td> 49</td><td><span style=white-space:pre-wrap>Dearborn St &amp; Monroe St       </span></td><td>Subscriber</td><td>Female</td><td>1983</td></tr>\n",
       "</tbody>\n",
       "</table>\n"
      ],
      "text/latex": [
       "A tibble: 6 × 12\n",
       "\\begin{tabular}{llllllllllll}\n",
       " trip\\_id & start\\_time & end\\_time & bikeid & tripduration & from\\_station\\_id & from\\_station\\_name & to\\_station\\_id & to\\_station\\_name & usertype & gender & birthyear\\\\\n",
       " <dbl> & <dttm> & <dttm> & <dbl> & <dbl> & <dbl> & <chr> & <dbl> & <chr> & <chr> & <chr> & <dbl>\\\\\n",
       "\\hline\n",
       "\t 21742443 & 2019-01-01 00:04:37 & 2019-01-01 00:11:07 & 2167 &  390 & 199 & Wabash Ave \\& Grand Ave              &  84 & Milwaukee Ave \\& Grand Ave      & Subscriber & Male   & 1989\\\\\n",
       "\t 21742444 & 2019-01-01 00:08:13 & 2019-01-01 00:15:34 & 4386 &  441 &  44 & State St \\& Randolph St              & 624 & Dearborn St \\& Van Buren St (*) & Subscriber & Female & 1990\\\\\n",
       "\t 21742445 & 2019-01-01 00:13:23 & 2019-01-01 00:27:12 & 1524 &  829 &  15 & Racine Ave \\& 18th St                & 644 & Western Ave \\& Fillmore St (*)  & Subscriber & Female & 1994\\\\\n",
       "\t 21742446 & 2019-01-01 00:13:45 & 2019-01-01 00:43:28 &  252 & 1783 & 123 & California Ave \\& Milwaukee Ave      & 176 & Clark St \\& Elm St              & Subscriber & Male   & 1993\\\\\n",
       "\t 21742447 & 2019-01-01 00:14:52 & 2019-01-01 00:20:56 & 1170 &  364 & 173 & Mies van der Rohe Way \\& Chicago Ave &  35 & Streeter Dr \\& Grand Ave        & Subscriber & Male   & 1994\\\\\n",
       "\t 21742448 & 2019-01-01 00:15:33 & 2019-01-01 00:19:09 & 2437 &  216 &  98 & LaSalle St \\& Washington St          &  49 & Dearborn St \\& Monroe St        & Subscriber & Female & 1983\\\\\n",
       "\\end{tabular}\n"
      ],
      "text/markdown": [
       "\n",
       "A tibble: 6 × 12\n",
       "\n",
       "| trip_id &lt;dbl&gt; | start_time &lt;dttm&gt; | end_time &lt;dttm&gt; | bikeid &lt;dbl&gt; | tripduration &lt;dbl&gt; | from_station_id &lt;dbl&gt; | from_station_name &lt;chr&gt; | to_station_id &lt;dbl&gt; | to_station_name &lt;chr&gt; | usertype &lt;chr&gt; | gender &lt;chr&gt; | birthyear &lt;dbl&gt; |\n",
       "|---|---|---|---|---|---|---|---|---|---|---|---|\n",
       "| 21742443 | 2019-01-01 00:04:37 | 2019-01-01 00:11:07 | 2167 |  390 | 199 | Wabash Ave &amp; Grand Ave              |  84 | Milwaukee Ave &amp; Grand Ave      | Subscriber | Male   | 1989 |\n",
       "| 21742444 | 2019-01-01 00:08:13 | 2019-01-01 00:15:34 | 4386 |  441 |  44 | State St &amp; Randolph St              | 624 | Dearborn St &amp; Van Buren St (*) | Subscriber | Female | 1990 |\n",
       "| 21742445 | 2019-01-01 00:13:23 | 2019-01-01 00:27:12 | 1524 |  829 |  15 | Racine Ave &amp; 18th St                | 644 | Western Ave &amp; Fillmore St (*)  | Subscriber | Female | 1994 |\n",
       "| 21742446 | 2019-01-01 00:13:45 | 2019-01-01 00:43:28 |  252 | 1783 | 123 | California Ave &amp; Milwaukee Ave      | 176 | Clark St &amp; Elm St              | Subscriber | Male   | 1993 |\n",
       "| 21742447 | 2019-01-01 00:14:52 | 2019-01-01 00:20:56 | 1170 |  364 | 173 | Mies van der Rohe Way &amp; Chicago Ave |  35 | Streeter Dr &amp; Grand Ave        | Subscriber | Male   | 1994 |\n",
       "| 21742448 | 2019-01-01 00:15:33 | 2019-01-01 00:19:09 | 2437 |  216 |  98 | LaSalle St &amp; Washington St          |  49 | Dearborn St &amp; Monroe St        | Subscriber | Female | 1983 |\n",
       "\n"
      ],
      "text/plain": [
       "  trip_id  start_time          end_time            bikeid tripduration\n",
       "1 21742443 2019-01-01 00:04:37 2019-01-01 00:11:07 2167    390        \n",
       "2 21742444 2019-01-01 00:08:13 2019-01-01 00:15:34 4386    441        \n",
       "3 21742445 2019-01-01 00:13:23 2019-01-01 00:27:12 1524    829        \n",
       "4 21742446 2019-01-01 00:13:45 2019-01-01 00:43:28  252   1783        \n",
       "5 21742447 2019-01-01 00:14:52 2019-01-01 00:20:56 1170    364        \n",
       "6 21742448 2019-01-01 00:15:33 2019-01-01 00:19:09 2437    216        \n",
       "  from_station_id from_station_name                   to_station_id\n",
       "1 199             Wabash Ave & Grand Ave               84          \n",
       "2  44             State St & Randolph St              624          \n",
       "3  15             Racine Ave & 18th St                644          \n",
       "4 123             California Ave & Milwaukee Ave      176          \n",
       "5 173             Mies van der Rohe Way & Chicago Ave  35          \n",
       "6  98             LaSalle St & Washington St           49          \n",
       "  to_station_name                usertype   gender birthyear\n",
       "1 Milwaukee Ave & Grand Ave      Subscriber Male   1989     \n",
       "2 Dearborn St & Van Buren St (*) Subscriber Female 1990     \n",
       "3 Western Ave & Fillmore St (*)  Subscriber Female 1994     \n",
       "4 Clark St & Elm St              Subscriber Male   1993     \n",
       "5 Streeter Dr & Grand Ave        Subscriber Male   1994     \n",
       "6 Dearborn St & Monroe St        Subscriber Female 1983     "
      ]
     },
     "metadata": {},
     "output_type": "display_data"
    },
    {
     "data": {
      "text/html": [
       "<table class=\"dataframe\">\n",
       "<caption>A tibble: 6 × 12</caption>\n",
       "<thead>\n",
       "\t<tr><th scope=col>01 - Rental Details Rental ID</th><th scope=col>01 - Rental Details Local Start Time</th><th scope=col>01 - Rental Details Local End Time</th><th scope=col>01 - Rental Details Bike ID</th><th scope=col>01 - Rental Details Duration In Seconds Uncapped</th><th scope=col>03 - Rental Start Station ID</th><th scope=col>03 - Rental Start Station Name</th><th scope=col>02 - Rental End Station ID</th><th scope=col>02 - Rental End Station Name</th><th scope=col>User Type</th><th scope=col>Member Gender</th><th scope=col>05 - Member Details Member Birthday Year</th></tr>\n",
       "\t<tr><th scope=col>&lt;dbl&gt;</th><th scope=col>&lt;dttm&gt;</th><th scope=col>&lt;dttm&gt;</th><th scope=col>&lt;dbl&gt;</th><th scope=col>&lt;dbl&gt;</th><th scope=col>&lt;dbl&gt;</th><th scope=col>&lt;chr&gt;</th><th scope=col>&lt;dbl&gt;</th><th scope=col>&lt;chr&gt;</th><th scope=col>&lt;chr&gt;</th><th scope=col>&lt;chr&gt;</th><th scope=col>&lt;dbl&gt;</th></tr>\n",
       "</thead>\n",
       "<tbody>\n",
       "\t<tr><td>22178529</td><td>2019-04-01 00:02:22</td><td>2019-04-01 00:09:48</td><td>6251</td><td> 446</td><td> 81</td><td><span style=white-space:pre-wrap>Daley Center Plaza       </span></td><td> 56</td><td>Desplaines St &amp; Kinzie St</td><td>Subscriber</td><td><span style=white-space:pre-wrap>Male  </span></td><td>1975</td></tr>\n",
       "\t<tr><td>22178530</td><td>2019-04-01 00:03:02</td><td>2019-04-01 00:20:30</td><td>6226</td><td>1048</td><td>317</td><td><span style=white-space:pre-wrap>Wood St &amp; Taylor St      </span></td><td> 59</td><td>Wabash Ave &amp; Roosevelt Rd</td><td>Subscriber</td><td>Female</td><td>1984</td></tr>\n",
       "\t<tr><td>22178531</td><td>2019-04-01 00:11:07</td><td>2019-04-01 00:15:19</td><td>5649</td><td> 252</td><td>283</td><td>LaSalle St &amp; Jackson Blvd</td><td>174</td><td><span style=white-space:pre-wrap>Canal St &amp; Madison St    </span></td><td>Subscriber</td><td><span style=white-space:pre-wrap>Male  </span></td><td>1990</td></tr>\n",
       "\t<tr><td>22178532</td><td>2019-04-01 00:13:01</td><td>2019-04-01 00:18:58</td><td>4151</td><td> 357</td><td> 26</td><td>McClurg Ct &amp; Illinois St </td><td>133</td><td>Kingsbury St &amp; Kinzie St </td><td>Subscriber</td><td><span style=white-space:pre-wrap>Male  </span></td><td>1993</td></tr>\n",
       "\t<tr><td>22178533</td><td>2019-04-01 00:19:26</td><td>2019-04-01 00:36:13</td><td>3270</td><td>1007</td><td>202</td><td><span style=white-space:pre-wrap>Halsted St &amp; 18th St     </span></td><td>129</td><td>Blue Island Ave &amp; 18th St</td><td>Subscriber</td><td><span style=white-space:pre-wrap>Male  </span></td><td>1992</td></tr>\n",
       "\t<tr><td>22178534</td><td>2019-04-01 00:19:39</td><td>2019-04-01 00:23:56</td><td>3123</td><td> 257</td><td>420</td><td><span style=white-space:pre-wrap>Ellis Ave &amp; 55th St      </span></td><td>426</td><td><span style=white-space:pre-wrap>Ellis Ave &amp; 60th St      </span></td><td>Subscriber</td><td><span style=white-space:pre-wrap>Male  </span></td><td>1999</td></tr>\n",
       "</tbody>\n",
       "</table>\n"
      ],
      "text/latex": [
       "A tibble: 6 × 12\n",
       "\\begin{tabular}{llllllllllll}\n",
       " 01 - Rental Details Rental ID & 01 - Rental Details Local Start Time & 01 - Rental Details Local End Time & 01 - Rental Details Bike ID & 01 - Rental Details Duration In Seconds Uncapped & 03 - Rental Start Station ID & 03 - Rental Start Station Name & 02 - Rental End Station ID & 02 - Rental End Station Name & User Type & Member Gender & 05 - Member Details Member Birthday Year\\\\\n",
       " <dbl> & <dttm> & <dttm> & <dbl> & <dbl> & <dbl> & <chr> & <dbl> & <chr> & <chr> & <chr> & <dbl>\\\\\n",
       "\\hline\n",
       "\t 22178529 & 2019-04-01 00:02:22 & 2019-04-01 00:09:48 & 6251 &  446 &  81 & Daley Center Plaza        &  56 & Desplaines St \\& Kinzie St & Subscriber & Male   & 1975\\\\\n",
       "\t 22178530 & 2019-04-01 00:03:02 & 2019-04-01 00:20:30 & 6226 & 1048 & 317 & Wood St \\& Taylor St       &  59 & Wabash Ave \\& Roosevelt Rd & Subscriber & Female & 1984\\\\\n",
       "\t 22178531 & 2019-04-01 00:11:07 & 2019-04-01 00:15:19 & 5649 &  252 & 283 & LaSalle St \\& Jackson Blvd & 174 & Canal St \\& Madison St     & Subscriber & Male   & 1990\\\\\n",
       "\t 22178532 & 2019-04-01 00:13:01 & 2019-04-01 00:18:58 & 4151 &  357 &  26 & McClurg Ct \\& Illinois St  & 133 & Kingsbury St \\& Kinzie St  & Subscriber & Male   & 1993\\\\\n",
       "\t 22178533 & 2019-04-01 00:19:26 & 2019-04-01 00:36:13 & 3270 & 1007 & 202 & Halsted St \\& 18th St      & 129 & Blue Island Ave \\& 18th St & Subscriber & Male   & 1992\\\\\n",
       "\t 22178534 & 2019-04-01 00:19:39 & 2019-04-01 00:23:56 & 3123 &  257 & 420 & Ellis Ave \\& 55th St       & 426 & Ellis Ave \\& 60th St       & Subscriber & Male   & 1999\\\\\n",
       "\\end{tabular}\n"
      ],
      "text/markdown": [
       "\n",
       "A tibble: 6 × 12\n",
       "\n",
       "| 01 - Rental Details Rental ID &lt;dbl&gt; | 01 - Rental Details Local Start Time &lt;dttm&gt; | 01 - Rental Details Local End Time &lt;dttm&gt; | 01 - Rental Details Bike ID &lt;dbl&gt; | 01 - Rental Details Duration In Seconds Uncapped &lt;dbl&gt; | 03 - Rental Start Station ID &lt;dbl&gt; | 03 - Rental Start Station Name &lt;chr&gt; | 02 - Rental End Station ID &lt;dbl&gt; | 02 - Rental End Station Name &lt;chr&gt; | User Type &lt;chr&gt; | Member Gender &lt;chr&gt; | 05 - Member Details Member Birthday Year &lt;dbl&gt; |\n",
       "|---|---|---|---|---|---|---|---|---|---|---|---|\n",
       "| 22178529 | 2019-04-01 00:02:22 | 2019-04-01 00:09:48 | 6251 |  446 |  81 | Daley Center Plaza        |  56 | Desplaines St &amp; Kinzie St | Subscriber | Male   | 1975 |\n",
       "| 22178530 | 2019-04-01 00:03:02 | 2019-04-01 00:20:30 | 6226 | 1048 | 317 | Wood St &amp; Taylor St       |  59 | Wabash Ave &amp; Roosevelt Rd | Subscriber | Female | 1984 |\n",
       "| 22178531 | 2019-04-01 00:11:07 | 2019-04-01 00:15:19 | 5649 |  252 | 283 | LaSalle St &amp; Jackson Blvd | 174 | Canal St &amp; Madison St     | Subscriber | Male   | 1990 |\n",
       "| 22178532 | 2019-04-01 00:13:01 | 2019-04-01 00:18:58 | 4151 |  357 |  26 | McClurg Ct &amp; Illinois St  | 133 | Kingsbury St &amp; Kinzie St  | Subscriber | Male   | 1993 |\n",
       "| 22178533 | 2019-04-01 00:19:26 | 2019-04-01 00:36:13 | 3270 | 1007 | 202 | Halsted St &amp; 18th St      | 129 | Blue Island Ave &amp; 18th St | Subscriber | Male   | 1992 |\n",
       "| 22178534 | 2019-04-01 00:19:39 | 2019-04-01 00:23:56 | 3123 |  257 | 420 | Ellis Ave &amp; 55th St       | 426 | Ellis Ave &amp; 60th St       | Subscriber | Male   | 1999 |\n",
       "\n"
      ],
      "text/plain": [
       "  01 - Rental Details Rental ID 01 - Rental Details Local Start Time\n",
       "1 22178529                      2019-04-01 00:02:22                 \n",
       "2 22178530                      2019-04-01 00:03:02                 \n",
       "3 22178531                      2019-04-01 00:11:07                 \n",
       "4 22178532                      2019-04-01 00:13:01                 \n",
       "5 22178533                      2019-04-01 00:19:26                 \n",
       "6 22178534                      2019-04-01 00:19:39                 \n",
       "  01 - Rental Details Local End Time 01 - Rental Details Bike ID\n",
       "1 2019-04-01 00:09:48                6251                       \n",
       "2 2019-04-01 00:20:30                6226                       \n",
       "3 2019-04-01 00:15:19                5649                       \n",
       "4 2019-04-01 00:18:58                4151                       \n",
       "5 2019-04-01 00:36:13                3270                       \n",
       "6 2019-04-01 00:23:56                3123                       \n",
       "  01 - Rental Details Duration In Seconds Uncapped 03 - Rental Start Station ID\n",
       "1  446                                              81                         \n",
       "2 1048                                             317                         \n",
       "3  252                                             283                         \n",
       "4  357                                              26                         \n",
       "5 1007                                             202                         \n",
       "6  257                                             420                         \n",
       "  03 - Rental Start Station Name 02 - Rental End Station ID\n",
       "1 Daley Center Plaza              56                       \n",
       "2 Wood St & Taylor St             59                       \n",
       "3 LaSalle St & Jackson Blvd      174                       \n",
       "4 McClurg Ct & Illinois St       133                       \n",
       "5 Halsted St & 18th St           129                       \n",
       "6 Ellis Ave & 55th St            426                       \n",
       "  02 - Rental End Station Name User Type  Member Gender\n",
       "1 Desplaines St & Kinzie St    Subscriber Male         \n",
       "2 Wabash Ave & Roosevelt Rd    Subscriber Female       \n",
       "3 Canal St & Madison St        Subscriber Male         \n",
       "4 Kingsbury St & Kinzie St     Subscriber Male         \n",
       "5 Blue Island Ave & 18th St    Subscriber Male         \n",
       "6 Ellis Ave & 60th St          Subscriber Male         \n",
       "  05 - Member Details Member Birthday Year\n",
       "1 1975                                    \n",
       "2 1984                                    \n",
       "3 1990                                    \n",
       "4 1993                                    \n",
       "5 1992                                    \n",
       "6 1999                                    "
      ]
     },
     "metadata": {},
     "output_type": "display_data"
    },
    {
     "data": {
      "text/html": [
       "<table class=\"dataframe\">\n",
       "<caption>A tibble: 6 × 12</caption>\n",
       "<thead>\n",
       "\t<tr><th scope=col>trip_id</th><th scope=col>start_time</th><th scope=col>end_time</th><th scope=col>bikeid</th><th scope=col>tripduration</th><th scope=col>from_station_id</th><th scope=col>from_station_name</th><th scope=col>to_station_id</th><th scope=col>to_station_name</th><th scope=col>usertype</th><th scope=col>gender</th><th scope=col>birthyear</th></tr>\n",
       "\t<tr><th scope=col>&lt;dbl&gt;</th><th scope=col>&lt;dttm&gt;</th><th scope=col>&lt;dttm&gt;</th><th scope=col>&lt;dbl&gt;</th><th scope=col>&lt;dbl&gt;</th><th scope=col>&lt;dbl&gt;</th><th scope=col>&lt;chr&gt;</th><th scope=col>&lt;dbl&gt;</th><th scope=col>&lt;chr&gt;</th><th scope=col>&lt;chr&gt;</th><th scope=col>&lt;chr&gt;</th><th scope=col>&lt;dbl&gt;</th></tr>\n",
       "</thead>\n",
       "<tbody>\n",
       "\t<tr><td>23479388</td><td>2019-07-01 00:00:27</td><td>2019-07-01 00:20:41</td><td>3591</td><td>1214</td><td>117</td><td><span style=white-space:pre-wrap>Wilton Ave &amp; Belmont Ave     </span></td><td>497</td><td><span style=white-space:pre-wrap>Kimball Ave &amp; Belmont Ave    </span></td><td>Subscriber</td><td>Male</td><td>1992</td></tr>\n",
       "\t<tr><td>23479389</td><td>2019-07-01 00:01:16</td><td>2019-07-01 00:18:44</td><td>5353</td><td>1048</td><td>381</td><td><span style=white-space:pre-wrap>Western Ave &amp; Monroe St      </span></td><td>203</td><td><span style=white-space:pre-wrap>Western Ave &amp; 21st St        </span></td><td><span style=white-space:pre-wrap>Customer  </span></td><td><span style=white-space:pre-wrap>NA  </span></td><td><span style=white-space:pre-wrap>  NA</span></td></tr>\n",
       "\t<tr><td>23479390</td><td>2019-07-01 00:01:48</td><td>2019-07-01 00:27:42</td><td>6180</td><td>1554</td><td>313</td><td>Lakeview Ave &amp; Fullerton Pkwy</td><td>144</td><td><span style=white-space:pre-wrap>Larrabee St &amp; Webster Ave    </span></td><td><span style=white-space:pre-wrap>Customer  </span></td><td><span style=white-space:pre-wrap>NA  </span></td><td><span style=white-space:pre-wrap>  NA</span></td></tr>\n",
       "\t<tr><td>23479391</td><td>2019-07-01 00:02:07</td><td>2019-07-01 00:27:10</td><td>5540</td><td>1503</td><td>313</td><td>Lakeview Ave &amp; Fullerton Pkwy</td><td>144</td><td><span style=white-space:pre-wrap>Larrabee St &amp; Webster Ave    </span></td><td><span style=white-space:pre-wrap>Customer  </span></td><td><span style=white-space:pre-wrap>NA  </span></td><td><span style=white-space:pre-wrap>  NA</span></td></tr>\n",
       "\t<tr><td>23479392</td><td>2019-07-01 00:02:13</td><td>2019-07-01 00:22:26</td><td>6014</td><td>1213</td><td>168</td><td><span style=white-space:pre-wrap>Michigan Ave &amp; 14th St       </span></td><td> 62</td><td><span style=white-space:pre-wrap>McCormick Place              </span></td><td><span style=white-space:pre-wrap>Customer  </span></td><td><span style=white-space:pre-wrap>NA  </span></td><td><span style=white-space:pre-wrap>  NA</span></td></tr>\n",
       "\t<tr><td>23479393</td><td>2019-07-01 00:02:21</td><td>2019-07-01 00:07:31</td><td>4941</td><td> 310</td><td>300</td><td><span style=white-space:pre-wrap>Broadway &amp; Barry Ave         </span></td><td>232</td><td>Pine Grove Ave &amp; Waveland Ave</td><td>Subscriber</td><td>Male</td><td>1990</td></tr>\n",
       "</tbody>\n",
       "</table>\n"
      ],
      "text/latex": [
       "A tibble: 6 × 12\n",
       "\\begin{tabular}{llllllllllll}\n",
       " trip\\_id & start\\_time & end\\_time & bikeid & tripduration & from\\_station\\_id & from\\_station\\_name & to\\_station\\_id & to\\_station\\_name & usertype & gender & birthyear\\\\\n",
       " <dbl> & <dttm> & <dttm> & <dbl> & <dbl> & <dbl> & <chr> & <dbl> & <chr> & <chr> & <chr> & <dbl>\\\\\n",
       "\\hline\n",
       "\t 23479388 & 2019-07-01 00:00:27 & 2019-07-01 00:20:41 & 3591 & 1214 & 117 & Wilton Ave \\& Belmont Ave      & 497 & Kimball Ave \\& Belmont Ave     & Subscriber & Male & 1992\\\\\n",
       "\t 23479389 & 2019-07-01 00:01:16 & 2019-07-01 00:18:44 & 5353 & 1048 & 381 & Western Ave \\& Monroe St       & 203 & Western Ave \\& 21st St         & Customer   & NA   &   NA\\\\\n",
       "\t 23479390 & 2019-07-01 00:01:48 & 2019-07-01 00:27:42 & 6180 & 1554 & 313 & Lakeview Ave \\& Fullerton Pkwy & 144 & Larrabee St \\& Webster Ave     & Customer   & NA   &   NA\\\\\n",
       "\t 23479391 & 2019-07-01 00:02:07 & 2019-07-01 00:27:10 & 5540 & 1503 & 313 & Lakeview Ave \\& Fullerton Pkwy & 144 & Larrabee St \\& Webster Ave     & Customer   & NA   &   NA\\\\\n",
       "\t 23479392 & 2019-07-01 00:02:13 & 2019-07-01 00:22:26 & 6014 & 1213 & 168 & Michigan Ave \\& 14th St        &  62 & McCormick Place               & Customer   & NA   &   NA\\\\\n",
       "\t 23479393 & 2019-07-01 00:02:21 & 2019-07-01 00:07:31 & 4941 &  310 & 300 & Broadway \\& Barry Ave          & 232 & Pine Grove Ave \\& Waveland Ave & Subscriber & Male & 1990\\\\\n",
       "\\end{tabular}\n"
      ],
      "text/markdown": [
       "\n",
       "A tibble: 6 × 12\n",
       "\n",
       "| trip_id &lt;dbl&gt; | start_time &lt;dttm&gt; | end_time &lt;dttm&gt; | bikeid &lt;dbl&gt; | tripduration &lt;dbl&gt; | from_station_id &lt;dbl&gt; | from_station_name &lt;chr&gt; | to_station_id &lt;dbl&gt; | to_station_name &lt;chr&gt; | usertype &lt;chr&gt; | gender &lt;chr&gt; | birthyear &lt;dbl&gt; |\n",
       "|---|---|---|---|---|---|---|---|---|---|---|---|\n",
       "| 23479388 | 2019-07-01 00:00:27 | 2019-07-01 00:20:41 | 3591 | 1214 | 117 | Wilton Ave &amp; Belmont Ave      | 497 | Kimball Ave &amp; Belmont Ave     | Subscriber | Male | 1992 |\n",
       "| 23479389 | 2019-07-01 00:01:16 | 2019-07-01 00:18:44 | 5353 | 1048 | 381 | Western Ave &amp; Monroe St       | 203 | Western Ave &amp; 21st St         | Customer   | NA   |   NA |\n",
       "| 23479390 | 2019-07-01 00:01:48 | 2019-07-01 00:27:42 | 6180 | 1554 | 313 | Lakeview Ave &amp; Fullerton Pkwy | 144 | Larrabee St &amp; Webster Ave     | Customer   | NA   |   NA |\n",
       "| 23479391 | 2019-07-01 00:02:07 | 2019-07-01 00:27:10 | 5540 | 1503 | 313 | Lakeview Ave &amp; Fullerton Pkwy | 144 | Larrabee St &amp; Webster Ave     | Customer   | NA   |   NA |\n",
       "| 23479392 | 2019-07-01 00:02:13 | 2019-07-01 00:22:26 | 6014 | 1213 | 168 | Michigan Ave &amp; 14th St        |  62 | McCormick Place               | Customer   | NA   |   NA |\n",
       "| 23479393 | 2019-07-01 00:02:21 | 2019-07-01 00:07:31 | 4941 |  310 | 300 | Broadway &amp; Barry Ave          | 232 | Pine Grove Ave &amp; Waveland Ave | Subscriber | Male | 1990 |\n",
       "\n"
      ],
      "text/plain": [
       "  trip_id  start_time          end_time            bikeid tripduration\n",
       "1 23479388 2019-07-01 00:00:27 2019-07-01 00:20:41 3591   1214        \n",
       "2 23479389 2019-07-01 00:01:16 2019-07-01 00:18:44 5353   1048        \n",
       "3 23479390 2019-07-01 00:01:48 2019-07-01 00:27:42 6180   1554        \n",
       "4 23479391 2019-07-01 00:02:07 2019-07-01 00:27:10 5540   1503        \n",
       "5 23479392 2019-07-01 00:02:13 2019-07-01 00:22:26 6014   1213        \n",
       "6 23479393 2019-07-01 00:02:21 2019-07-01 00:07:31 4941    310        \n",
       "  from_station_id from_station_name             to_station_id\n",
       "1 117             Wilton Ave & Belmont Ave      497          \n",
       "2 381             Western Ave & Monroe St       203          \n",
       "3 313             Lakeview Ave & Fullerton Pkwy 144          \n",
       "4 313             Lakeview Ave & Fullerton Pkwy 144          \n",
       "5 168             Michigan Ave & 14th St         62          \n",
       "6 300             Broadway & Barry Ave          232          \n",
       "  to_station_name               usertype   gender birthyear\n",
       "1 Kimball Ave & Belmont Ave     Subscriber Male   1992     \n",
       "2 Western Ave & 21st St         Customer   NA       NA     \n",
       "3 Larrabee St & Webster Ave     Customer   NA       NA     \n",
       "4 Larrabee St & Webster Ave     Customer   NA       NA     \n",
       "5 McCormick Place               Customer   NA       NA     \n",
       "6 Pine Grove Ave & Waveland Ave Subscriber Male   1990     "
      ]
     },
     "metadata": {},
     "output_type": "display_data"
    },
    {
     "data": {
      "text/html": [
       "<table class=\"dataframe\">\n",
       "<caption>A tibble: 6 × 12</caption>\n",
       "<thead>\n",
       "\t<tr><th scope=col>trip_id</th><th scope=col>start_time</th><th scope=col>end_time</th><th scope=col>bikeid</th><th scope=col>tripduration</th><th scope=col>from_station_id</th><th scope=col>from_station_name</th><th scope=col>to_station_id</th><th scope=col>to_station_name</th><th scope=col>usertype</th><th scope=col>gender</th><th scope=col>birthyear</th></tr>\n",
       "\t<tr><th scope=col>&lt;dbl&gt;</th><th scope=col>&lt;dttm&gt;</th><th scope=col>&lt;dttm&gt;</th><th scope=col>&lt;dbl&gt;</th><th scope=col>&lt;dbl&gt;</th><th scope=col>&lt;dbl&gt;</th><th scope=col>&lt;chr&gt;</th><th scope=col>&lt;dbl&gt;</th><th scope=col>&lt;chr&gt;</th><th scope=col>&lt;chr&gt;</th><th scope=col>&lt;chr&gt;</th><th scope=col>&lt;dbl&gt;</th></tr>\n",
       "</thead>\n",
       "<tbody>\n",
       "\t<tr><td>25223640</td><td>2019-10-01 00:01:39</td><td>2019-10-01 00:17:20</td><td>2215</td><td> 940</td><td> 20</td><td><span style=white-space:pre-wrap>Sheffield Ave &amp; Kingsbury St  </span></td><td>309</td><td><span style=white-space:pre-wrap>Leavitt St &amp; Armitage Ave  </span></td><td>Subscriber</td><td><span style=white-space:pre-wrap>Male  </span></td><td>1987</td></tr>\n",
       "\t<tr><td>25223641</td><td>2019-10-01 00:02:16</td><td>2019-10-01 00:06:34</td><td>6328</td><td> 258</td><td> 19</td><td>Throop (Loomis) St &amp; Taylor St</td><td>241</td><td><span style=white-space:pre-wrap>Morgan St &amp; Polk St        </span></td><td>Subscriber</td><td><span style=white-space:pre-wrap>Male  </span></td><td>1998</td></tr>\n",
       "\t<tr><td>25223642</td><td>2019-10-01 00:04:32</td><td>2019-10-01 00:18:43</td><td>3003</td><td> 850</td><td> 84</td><td><span style=white-space:pre-wrap>Milwaukee Ave &amp; Grand Ave     </span></td><td>199</td><td><span style=white-space:pre-wrap>Wabash Ave &amp; Grand Ave     </span></td><td>Subscriber</td><td>Female</td><td>1991</td></tr>\n",
       "\t<tr><td>25223643</td><td>2019-10-01 00:04:32</td><td>2019-10-01 00:43:43</td><td>3275</td><td>2350</td><td>313</td><td>Lakeview Ave &amp; Fullerton Pkwy </td><td>290</td><td><span style=white-space:pre-wrap>Kedzie Ave &amp; Palmer Ct     </span></td><td>Subscriber</td><td><span style=white-space:pre-wrap>Male  </span></td><td>1990</td></tr>\n",
       "\t<tr><td>25223644</td><td>2019-10-01 00:04:34</td><td>2019-10-01 00:35:42</td><td>5294</td><td>1867</td><td>210</td><td><span style=white-space:pre-wrap>Ashland Ave &amp; Division St     </span></td><td>382</td><td>Western Ave &amp; Congress Pkwy</td><td>Subscriber</td><td><span style=white-space:pre-wrap>Male  </span></td><td>1987</td></tr>\n",
       "\t<tr><td>25223645</td><td>2019-10-01 00:04:38</td><td>2019-10-01 00:10:51</td><td>1891</td><td> 373</td><td>156</td><td><span style=white-space:pre-wrap>Clark St &amp; Wellington Ave     </span></td><td>226</td><td><span style=white-space:pre-wrap>Racine Ave &amp; Belmont Ave   </span></td><td>Subscriber</td><td>Female</td><td>1994</td></tr>\n",
       "</tbody>\n",
       "</table>\n"
      ],
      "text/latex": [
       "A tibble: 6 × 12\n",
       "\\begin{tabular}{llllllllllll}\n",
       " trip\\_id & start\\_time & end\\_time & bikeid & tripduration & from\\_station\\_id & from\\_station\\_name & to\\_station\\_id & to\\_station\\_name & usertype & gender & birthyear\\\\\n",
       " <dbl> & <dttm> & <dttm> & <dbl> & <dbl> & <dbl> & <chr> & <dbl> & <chr> & <chr> & <chr> & <dbl>\\\\\n",
       "\\hline\n",
       "\t 25223640 & 2019-10-01 00:01:39 & 2019-10-01 00:17:20 & 2215 &  940 &  20 & Sheffield Ave \\& Kingsbury St   & 309 & Leavitt St \\& Armitage Ave   & Subscriber & Male   & 1987\\\\\n",
       "\t 25223641 & 2019-10-01 00:02:16 & 2019-10-01 00:06:34 & 6328 &  258 &  19 & Throop (Loomis) St \\& Taylor St & 241 & Morgan St \\& Polk St         & Subscriber & Male   & 1998\\\\\n",
       "\t 25223642 & 2019-10-01 00:04:32 & 2019-10-01 00:18:43 & 3003 &  850 &  84 & Milwaukee Ave \\& Grand Ave      & 199 & Wabash Ave \\& Grand Ave      & Subscriber & Female & 1991\\\\\n",
       "\t 25223643 & 2019-10-01 00:04:32 & 2019-10-01 00:43:43 & 3275 & 2350 & 313 & Lakeview Ave \\& Fullerton Pkwy  & 290 & Kedzie Ave \\& Palmer Ct      & Subscriber & Male   & 1990\\\\\n",
       "\t 25223644 & 2019-10-01 00:04:34 & 2019-10-01 00:35:42 & 5294 & 1867 & 210 & Ashland Ave \\& Division St      & 382 & Western Ave \\& Congress Pkwy & Subscriber & Male   & 1987\\\\\n",
       "\t 25223645 & 2019-10-01 00:04:38 & 2019-10-01 00:10:51 & 1891 &  373 & 156 & Clark St \\& Wellington Ave      & 226 & Racine Ave \\& Belmont Ave    & Subscriber & Female & 1994\\\\\n",
       "\\end{tabular}\n"
      ],
      "text/markdown": [
       "\n",
       "A tibble: 6 × 12\n",
       "\n",
       "| trip_id &lt;dbl&gt; | start_time &lt;dttm&gt; | end_time &lt;dttm&gt; | bikeid &lt;dbl&gt; | tripduration &lt;dbl&gt; | from_station_id &lt;dbl&gt; | from_station_name &lt;chr&gt; | to_station_id &lt;dbl&gt; | to_station_name &lt;chr&gt; | usertype &lt;chr&gt; | gender &lt;chr&gt; | birthyear &lt;dbl&gt; |\n",
       "|---|---|---|---|---|---|---|---|---|---|---|---|\n",
       "| 25223640 | 2019-10-01 00:01:39 | 2019-10-01 00:17:20 | 2215 |  940 |  20 | Sheffield Ave &amp; Kingsbury St   | 309 | Leavitt St &amp; Armitage Ave   | Subscriber | Male   | 1987 |\n",
       "| 25223641 | 2019-10-01 00:02:16 | 2019-10-01 00:06:34 | 6328 |  258 |  19 | Throop (Loomis) St &amp; Taylor St | 241 | Morgan St &amp; Polk St         | Subscriber | Male   | 1998 |\n",
       "| 25223642 | 2019-10-01 00:04:32 | 2019-10-01 00:18:43 | 3003 |  850 |  84 | Milwaukee Ave &amp; Grand Ave      | 199 | Wabash Ave &amp; Grand Ave      | Subscriber | Female | 1991 |\n",
       "| 25223643 | 2019-10-01 00:04:32 | 2019-10-01 00:43:43 | 3275 | 2350 | 313 | Lakeview Ave &amp; Fullerton Pkwy  | 290 | Kedzie Ave &amp; Palmer Ct      | Subscriber | Male   | 1990 |\n",
       "| 25223644 | 2019-10-01 00:04:34 | 2019-10-01 00:35:42 | 5294 | 1867 | 210 | Ashland Ave &amp; Division St      | 382 | Western Ave &amp; Congress Pkwy | Subscriber | Male   | 1987 |\n",
       "| 25223645 | 2019-10-01 00:04:38 | 2019-10-01 00:10:51 | 1891 |  373 | 156 | Clark St &amp; Wellington Ave      | 226 | Racine Ave &amp; Belmont Ave    | Subscriber | Female | 1994 |\n",
       "\n"
      ],
      "text/plain": [
       "  trip_id  start_time          end_time            bikeid tripduration\n",
       "1 25223640 2019-10-01 00:01:39 2019-10-01 00:17:20 2215    940        \n",
       "2 25223641 2019-10-01 00:02:16 2019-10-01 00:06:34 6328    258        \n",
       "3 25223642 2019-10-01 00:04:32 2019-10-01 00:18:43 3003    850        \n",
       "4 25223643 2019-10-01 00:04:32 2019-10-01 00:43:43 3275   2350        \n",
       "5 25223644 2019-10-01 00:04:34 2019-10-01 00:35:42 5294   1867        \n",
       "6 25223645 2019-10-01 00:04:38 2019-10-01 00:10:51 1891    373        \n",
       "  from_station_id from_station_name              to_station_id\n",
       "1  20             Sheffield Ave & Kingsbury St   309          \n",
       "2  19             Throop (Loomis) St & Taylor St 241          \n",
       "3  84             Milwaukee Ave & Grand Ave      199          \n",
       "4 313             Lakeview Ave & Fullerton Pkwy  290          \n",
       "5 210             Ashland Ave & Division St      382          \n",
       "6 156             Clark St & Wellington Ave      226          \n",
       "  to_station_name             usertype   gender birthyear\n",
       "1 Leavitt St & Armitage Ave   Subscriber Male   1987     \n",
       "2 Morgan St & Polk St         Subscriber Male   1998     \n",
       "3 Wabash Ave & Grand Ave      Subscriber Female 1991     \n",
       "4 Kedzie Ave & Palmer Ct      Subscriber Male   1990     \n",
       "5 Western Ave & Congress Pkwy Subscriber Male   1987     \n",
       "6 Racine Ave & Belmont Ave    Subscriber Female 1994     "
      ]
     },
     "metadata": {},
     "output_type": "display_data"
    }
   ],
   "source": [
    "head(q1_2019)\n",
    "head(q2_2019)\n",
    "head(q3_2019)\n",
    "head(q4_2019)"
   ]
  },
  {
   "cell_type": "markdown",
   "id": "12046eb3",
   "metadata": {
    "papermill": {
     "duration": 0.015876,
     "end_time": "2024-01-14T15:32:17.418302",
     "exception": false,
     "start_time": "2024-01-14T15:32:17.402426",
     "status": "completed"
    },
    "tags": []
   },
   "source": [
    "# 3. Preparation and Cleaning <a class=\"anchor\" id=\"prepare\"></a>\n",
    "\n",
    "### 3.1  Wrangle data and combine into 1 file "
   ]
  },
  {
   "cell_type": "code",
   "execution_count": 4,
   "id": "4c00d4a9",
   "metadata": {
    "execution": {
     "iopub.execute_input": "2024-01-14T15:32:17.452874Z",
     "iopub.status.busy": "2024-01-14T15:32:17.451068Z",
     "iopub.status.idle": "2024-01-14T15:32:17.489217Z",
     "shell.execute_reply": "2024-01-14T15:32:17.487286Z"
    },
    "papermill": {
     "duration": 0.058285,
     "end_time": "2024-01-14T15:32:17.491850",
     "exception": false,
     "start_time": "2024-01-14T15:32:17.433565",
     "status": "completed"
    },
    "tags": []
   },
   "outputs": [
    {
     "data": {
      "text/html": [
       "<style>\n",
       ".list-inline {list-style: none; margin:0; padding: 0}\n",
       ".list-inline>li {display: inline-block}\n",
       ".list-inline>li:not(:last-child)::after {content: \"\\00b7\"; padding: 0 .5ex}\n",
       "</style>\n",
       "<ol class=list-inline><li>'trip_id'</li><li>'start_time'</li><li>'end_time'</li><li>'bikeid'</li><li>'tripduration'</li><li>'from_station_id'</li><li>'from_station_name'</li><li>'to_station_id'</li><li>'to_station_name'</li><li>'usertype'</li><li>'gender'</li><li>'birthyear'</li></ol>\n"
      ],
      "text/latex": [
       "\\begin{enumerate*}\n",
       "\\item 'trip\\_id'\n",
       "\\item 'start\\_time'\n",
       "\\item 'end\\_time'\n",
       "\\item 'bikeid'\n",
       "\\item 'tripduration'\n",
       "\\item 'from\\_station\\_id'\n",
       "\\item 'from\\_station\\_name'\n",
       "\\item 'to\\_station\\_id'\n",
       "\\item 'to\\_station\\_name'\n",
       "\\item 'usertype'\n",
       "\\item 'gender'\n",
       "\\item 'birthyear'\n",
       "\\end{enumerate*}\n"
      ],
      "text/markdown": [
       "1. 'trip_id'\n",
       "2. 'start_time'\n",
       "3. 'end_time'\n",
       "4. 'bikeid'\n",
       "5. 'tripduration'\n",
       "6. 'from_station_id'\n",
       "7. 'from_station_name'\n",
       "8. 'to_station_id'\n",
       "9. 'to_station_name'\n",
       "10. 'usertype'\n",
       "11. 'gender'\n",
       "12. 'birthyear'\n",
       "\n",
       "\n"
      ],
      "text/plain": [
       " [1] \"trip_id\"           \"start_time\"        \"end_time\"         \n",
       " [4] \"bikeid\"            \"tripduration\"      \"from_station_id\"  \n",
       " [7] \"from_station_name\" \"to_station_id\"     \"to_station_name\"  \n",
       "[10] \"usertype\"          \"gender\"            \"birthyear\"        "
      ]
     },
     "metadata": {},
     "output_type": "display_data"
    },
    {
     "data": {
      "text/html": [
       "<style>\n",
       ".list-inline {list-style: none; margin:0; padding: 0}\n",
       ".list-inline>li {display: inline-block}\n",
       ".list-inline>li:not(:last-child)::after {content: \"\\00b7\"; padding: 0 .5ex}\n",
       "</style>\n",
       "<ol class=list-inline><li>'01 - Rental Details Rental ID'</li><li>'01 - Rental Details Local Start Time'</li><li>'01 - Rental Details Local End Time'</li><li>'01 - Rental Details Bike ID'</li><li>'01 - Rental Details Duration In Seconds Uncapped'</li><li>'03 - Rental Start Station ID'</li><li>'03 - Rental Start Station Name'</li><li>'02 - Rental End Station ID'</li><li>'02 - Rental End Station Name'</li><li>'User Type'</li><li>'Member Gender'</li><li>'05 - Member Details Member Birthday Year'</li></ol>\n"
      ],
      "text/latex": [
       "\\begin{enumerate*}\n",
       "\\item '01 - Rental Details Rental ID'\n",
       "\\item '01 - Rental Details Local Start Time'\n",
       "\\item '01 - Rental Details Local End Time'\n",
       "\\item '01 - Rental Details Bike ID'\n",
       "\\item '01 - Rental Details Duration In Seconds Uncapped'\n",
       "\\item '03 - Rental Start Station ID'\n",
       "\\item '03 - Rental Start Station Name'\n",
       "\\item '02 - Rental End Station ID'\n",
       "\\item '02 - Rental End Station Name'\n",
       "\\item 'User Type'\n",
       "\\item 'Member Gender'\n",
       "\\item '05 - Member Details Member Birthday Year'\n",
       "\\end{enumerate*}\n"
      ],
      "text/markdown": [
       "1. '01 - Rental Details Rental ID'\n",
       "2. '01 - Rental Details Local Start Time'\n",
       "3. '01 - Rental Details Local End Time'\n",
       "4. '01 - Rental Details Bike ID'\n",
       "5. '01 - Rental Details Duration In Seconds Uncapped'\n",
       "6. '03 - Rental Start Station ID'\n",
       "7. '03 - Rental Start Station Name'\n",
       "8. '02 - Rental End Station ID'\n",
       "9. '02 - Rental End Station Name'\n",
       "10. 'User Type'\n",
       "11. 'Member Gender'\n",
       "12. '05 - Member Details Member Birthday Year'\n",
       "\n",
       "\n"
      ],
      "text/plain": [
       " [1] \"01 - Rental Details Rental ID\"                   \n",
       " [2] \"01 - Rental Details Local Start Time\"            \n",
       " [3] \"01 - Rental Details Local End Time\"              \n",
       " [4] \"01 - Rental Details Bike ID\"                     \n",
       " [5] \"01 - Rental Details Duration In Seconds Uncapped\"\n",
       " [6] \"03 - Rental Start Station ID\"                    \n",
       " [7] \"03 - Rental Start Station Name\"                  \n",
       " [8] \"02 - Rental End Station ID\"                      \n",
       " [9] \"02 - Rental End Station Name\"                    \n",
       "[10] \"User Type\"                                       \n",
       "[11] \"Member Gender\"                                   \n",
       "[12] \"05 - Member Details Member Birthday Year\"        "
      ]
     },
     "metadata": {},
     "output_type": "display_data"
    },
    {
     "data": {
      "text/html": [
       "<style>\n",
       ".list-inline {list-style: none; margin:0; padding: 0}\n",
       ".list-inline>li {display: inline-block}\n",
       ".list-inline>li:not(:last-child)::after {content: \"\\00b7\"; padding: 0 .5ex}\n",
       "</style>\n",
       "<ol class=list-inline><li>'trip_id'</li><li>'start_time'</li><li>'end_time'</li><li>'bikeid'</li><li>'tripduration'</li><li>'from_station_id'</li><li>'from_station_name'</li><li>'to_station_id'</li><li>'to_station_name'</li><li>'usertype'</li><li>'gender'</li><li>'birthyear'</li></ol>\n"
      ],
      "text/latex": [
       "\\begin{enumerate*}\n",
       "\\item 'trip\\_id'\n",
       "\\item 'start\\_time'\n",
       "\\item 'end\\_time'\n",
       "\\item 'bikeid'\n",
       "\\item 'tripduration'\n",
       "\\item 'from\\_station\\_id'\n",
       "\\item 'from\\_station\\_name'\n",
       "\\item 'to\\_station\\_id'\n",
       "\\item 'to\\_station\\_name'\n",
       "\\item 'usertype'\n",
       "\\item 'gender'\n",
       "\\item 'birthyear'\n",
       "\\end{enumerate*}\n"
      ],
      "text/markdown": [
       "1. 'trip_id'\n",
       "2. 'start_time'\n",
       "3. 'end_time'\n",
       "4. 'bikeid'\n",
       "5. 'tripduration'\n",
       "6. 'from_station_id'\n",
       "7. 'from_station_name'\n",
       "8. 'to_station_id'\n",
       "9. 'to_station_name'\n",
       "10. 'usertype'\n",
       "11. 'gender'\n",
       "12. 'birthyear'\n",
       "\n",
       "\n"
      ],
      "text/plain": [
       " [1] \"trip_id\"           \"start_time\"        \"end_time\"         \n",
       " [4] \"bikeid\"            \"tripduration\"      \"from_station_id\"  \n",
       " [7] \"from_station_name\" \"to_station_id\"     \"to_station_name\"  \n",
       "[10] \"usertype\"          \"gender\"            \"birthyear\"        "
      ]
     },
     "metadata": {},
     "output_type": "display_data"
    },
    {
     "data": {
      "text/html": [
       "<style>\n",
       ".list-inline {list-style: none; margin:0; padding: 0}\n",
       ".list-inline>li {display: inline-block}\n",
       ".list-inline>li:not(:last-child)::after {content: \"\\00b7\"; padding: 0 .5ex}\n",
       "</style>\n",
       "<ol class=list-inline><li>'trip_id'</li><li>'start_time'</li><li>'end_time'</li><li>'bikeid'</li><li>'tripduration'</li><li>'from_station_id'</li><li>'from_station_name'</li><li>'to_station_id'</li><li>'to_station_name'</li><li>'usertype'</li><li>'gender'</li><li>'birthyear'</li></ol>\n"
      ],
      "text/latex": [
       "\\begin{enumerate*}\n",
       "\\item 'trip\\_id'\n",
       "\\item 'start\\_time'\n",
       "\\item 'end\\_time'\n",
       "\\item 'bikeid'\n",
       "\\item 'tripduration'\n",
       "\\item 'from\\_station\\_id'\n",
       "\\item 'from\\_station\\_name'\n",
       "\\item 'to\\_station\\_id'\n",
       "\\item 'to\\_station\\_name'\n",
       "\\item 'usertype'\n",
       "\\item 'gender'\n",
       "\\item 'birthyear'\n",
       "\\end{enumerate*}\n"
      ],
      "text/markdown": [
       "1. 'trip_id'\n",
       "2. 'start_time'\n",
       "3. 'end_time'\n",
       "4. 'bikeid'\n",
       "5. 'tripduration'\n",
       "6. 'from_station_id'\n",
       "7. 'from_station_name'\n",
       "8. 'to_station_id'\n",
       "9. 'to_station_name'\n",
       "10. 'usertype'\n",
       "11. 'gender'\n",
       "12. 'birthyear'\n",
       "\n",
       "\n"
      ],
      "text/plain": [
       " [1] \"trip_id\"           \"start_time\"        \"end_time\"         \n",
       " [4] \"bikeid\"            \"tripduration\"      \"from_station_id\"  \n",
       " [7] \"from_station_name\" \"to_station_id\"     \"to_station_name\"  \n",
       "[10] \"usertype\"          \"gender\"            \"birthyear\"        "
      ]
     },
     "metadata": {},
     "output_type": "display_data"
    }
   ],
   "source": [
    "# Compare column names each of the files\n",
    "# While the names don't have to be in the same order, they DO need to match perfectly before we can use a command to join them into one file\n",
    "colnames(q1_2019)\n",
    "colnames(q2_2019)\n",
    "colnames(q3_2019)\n",
    "colnames(q4_2019)"
   ]
  },
  {
   "cell_type": "markdown",
   "id": "3fbeea85",
   "metadata": {
    "papermill": {
     "duration": 0.016316,
     "end_time": "2024-01-14T15:32:17.524570",
     "exception": false,
     "start_time": "2024-01-14T15:32:17.508254",
     "status": "completed"
    },
    "tags": []
   },
   "source": [
    "* #### Notice that column names of second quarter are not same as other quarter data.\n",
    "* #### To merge data into a single file, the column names and format must be the same for consistent stacking."
   ]
  },
  {
   "cell_type": "code",
   "execution_count": 5,
   "id": "7539025a",
   "metadata": {
    "execution": {
     "iopub.execute_input": "2024-01-14T15:32:17.561091Z",
     "iopub.status.busy": "2024-01-14T15:32:17.559355Z",
     "iopub.status.idle": "2024-01-14T15:32:18.848111Z",
     "shell.execute_reply": "2024-01-14T15:32:18.846024Z"
    },
    "papermill": {
     "duration": 1.310108,
     "end_time": "2024-01-14T15:32:18.850873",
     "exception": false,
     "start_time": "2024-01-14T15:32:17.540765",
     "status": "completed"
    },
    "tags": []
   },
   "outputs": [
    {
     "data": {
      "text/html": [
       "<style>\n",
       ".list-inline {list-style: none; margin:0; padding: 0}\n",
       ".list-inline>li {display: inline-block}\n",
       ".list-inline>li:not(:last-child)::after {content: \"\\00b7\"; padding: 0 .5ex}\n",
       "</style>\n",
       "<ol class=list-inline><li>'trip_id'</li><li>'start_time'</li><li>'end_time'</li><li>'bikeid'</li><li>'tripduration'</li><li>'from_station_id'</li><li>'from_station_name'</li><li>'to_station_id'</li><li>'to_station_name'</li><li>'usertype'</li><li>'gender'</li><li>'birthyear'</li></ol>\n"
      ],
      "text/latex": [
       "\\begin{enumerate*}\n",
       "\\item 'trip\\_id'\n",
       "\\item 'start\\_time'\n",
       "\\item 'end\\_time'\n",
       "\\item 'bikeid'\n",
       "\\item 'tripduration'\n",
       "\\item 'from\\_station\\_id'\n",
       "\\item 'from\\_station\\_name'\n",
       "\\item 'to\\_station\\_id'\n",
       "\\item 'to\\_station\\_name'\n",
       "\\item 'usertype'\n",
       "\\item 'gender'\n",
       "\\item 'birthyear'\n",
       "\\end{enumerate*}\n"
      ],
      "text/markdown": [
       "1. 'trip_id'\n",
       "2. 'start_time'\n",
       "3. 'end_time'\n",
       "4. 'bikeid'\n",
       "5. 'tripduration'\n",
       "6. 'from_station_id'\n",
       "7. 'from_station_name'\n",
       "8. 'to_station_id'\n",
       "9. 'to_station_name'\n",
       "10. 'usertype'\n",
       "11. 'gender'\n",
       "12. 'birthyear'\n",
       "\n",
       "\n"
      ],
      "text/plain": [
       " [1] \"trip_id\"           \"start_time\"        \"end_time\"         \n",
       " [4] \"bikeid\"            \"tripduration\"      \"from_station_id\"  \n",
       " [7] \"from_station_name\" \"to_station_id\"     \"to_station_name\"  \n",
       "[10] \"usertype\"          \"gender\"            \"birthyear\"        "
      ]
     },
     "metadata": {},
     "output_type": "display_data"
    },
    {
     "data": {
      "text/html": [
       "<style>\n",
       ".list-inline {list-style: none; margin:0; padding: 0}\n",
       ".list-inline>li {display: inline-block}\n",
       ".list-inline>li:not(:last-child)::after {content: \"\\00b7\"; padding: 0 .5ex}\n",
       "</style>\n",
       "<ol class=list-inline><li>'trip_id'</li><li>'start_time'</li><li>'end_time'</li><li>'bikeid'</li><li>'tripduration'</li><li>'from_station_id'</li><li>'from_station_name'</li><li>'to_station_id'</li><li>'to_station_name'</li><li>'usertype'</li><li>'gender'</li><li>'birthyear'</li></ol>\n"
      ],
      "text/latex": [
       "\\begin{enumerate*}\n",
       "\\item 'trip\\_id'\n",
       "\\item 'start\\_time'\n",
       "\\item 'end\\_time'\n",
       "\\item 'bikeid'\n",
       "\\item 'tripduration'\n",
       "\\item 'from\\_station\\_id'\n",
       "\\item 'from\\_station\\_name'\n",
       "\\item 'to\\_station\\_id'\n",
       "\\item 'to\\_station\\_name'\n",
       "\\item 'usertype'\n",
       "\\item 'gender'\n",
       "\\item 'birthyear'\n",
       "\\end{enumerate*}\n"
      ],
      "text/markdown": [
       "1. 'trip_id'\n",
       "2. 'start_time'\n",
       "3. 'end_time'\n",
       "4. 'bikeid'\n",
       "5. 'tripduration'\n",
       "6. 'from_station_id'\n",
       "7. 'from_station_name'\n",
       "8. 'to_station_id'\n",
       "9. 'to_station_name'\n",
       "10. 'usertype'\n",
       "11. 'gender'\n",
       "12. 'birthyear'\n",
       "\n",
       "\n"
      ],
      "text/plain": [
       " [1] \"trip_id\"           \"start_time\"        \"end_time\"         \n",
       " [4] \"bikeid\"            \"tripduration\"      \"from_station_id\"  \n",
       " [7] \"from_station_name\" \"to_station_id\"     \"to_station_name\"  \n",
       "[10] \"usertype\"          \"gender\"            \"birthyear\"        "
      ]
     },
     "metadata": {},
     "output_type": "display_data"
    },
    {
     "data": {
      "text/html": [
       "<style>\n",
       ".list-inline {list-style: none; margin:0; padding: 0}\n",
       ".list-inline>li {display: inline-block}\n",
       ".list-inline>li:not(:last-child)::after {content: \"\\00b7\"; padding: 0 .5ex}\n",
       "</style>\n",
       "<ol class=list-inline><li>'trip_id'</li><li>'start_time'</li><li>'end_time'</li><li>'bikeid'</li><li>'tripduration'</li><li>'from_station_id'</li><li>'from_station_name'</li><li>'to_station_id'</li><li>'to_station_name'</li><li>'usertype'</li><li>'gender'</li><li>'birthyear'</li></ol>\n"
      ],
      "text/latex": [
       "\\begin{enumerate*}\n",
       "\\item 'trip\\_id'\n",
       "\\item 'start\\_time'\n",
       "\\item 'end\\_time'\n",
       "\\item 'bikeid'\n",
       "\\item 'tripduration'\n",
       "\\item 'from\\_station\\_id'\n",
       "\\item 'from\\_station\\_name'\n",
       "\\item 'to\\_station\\_id'\n",
       "\\item 'to\\_station\\_name'\n",
       "\\item 'usertype'\n",
       "\\item 'gender'\n",
       "\\item 'birthyear'\n",
       "\\end{enumerate*}\n"
      ],
      "text/markdown": [
       "1. 'trip_id'\n",
       "2. 'start_time'\n",
       "3. 'end_time'\n",
       "4. 'bikeid'\n",
       "5. 'tripduration'\n",
       "6. 'from_station_id'\n",
       "7. 'from_station_name'\n",
       "8. 'to_station_id'\n",
       "9. 'to_station_name'\n",
       "10. 'usertype'\n",
       "11. 'gender'\n",
       "12. 'birthyear'\n",
       "\n",
       "\n"
      ],
      "text/plain": [
       " [1] \"trip_id\"           \"start_time\"        \"end_time\"         \n",
       " [4] \"bikeid\"            \"tripduration\"      \"from_station_id\"  \n",
       " [7] \"from_station_name\" \"to_station_id\"     \"to_station_name\"  \n",
       "[10] \"usertype\"          \"gender\"            \"birthyear\"        "
      ]
     },
     "metadata": {},
     "output_type": "display_data"
    },
    {
     "data": {
      "text/html": [
       "<style>\n",
       ".list-inline {list-style: none; margin:0; padding: 0}\n",
       ".list-inline>li {display: inline-block}\n",
       ".list-inline>li:not(:last-child)::after {content: \"\\00b7\"; padding: 0 .5ex}\n",
       "</style>\n",
       "<ol class=list-inline><li>'trip_id'</li><li>'start_time'</li><li>'end_time'</li><li>'bikeid'</li><li>'tripduration'</li><li>'from_station_id'</li><li>'from_station_name'</li><li>'to_station_id'</li><li>'to_station_name'</li><li>'usertype'</li><li>'gender'</li><li>'birthyear'</li></ol>\n"
      ],
      "text/latex": [
       "\\begin{enumerate*}\n",
       "\\item 'trip\\_id'\n",
       "\\item 'start\\_time'\n",
       "\\item 'end\\_time'\n",
       "\\item 'bikeid'\n",
       "\\item 'tripduration'\n",
       "\\item 'from\\_station\\_id'\n",
       "\\item 'from\\_station\\_name'\n",
       "\\item 'to\\_station\\_id'\n",
       "\\item 'to\\_station\\_name'\n",
       "\\item 'usertype'\n",
       "\\item 'gender'\n",
       "\\item 'birthyear'\n",
       "\\end{enumerate*}\n"
      ],
      "text/markdown": [
       "1. 'trip_id'\n",
       "2. 'start_time'\n",
       "3. 'end_time'\n",
       "4. 'bikeid'\n",
       "5. 'tripduration'\n",
       "6. 'from_station_id'\n",
       "7. 'from_station_name'\n",
       "8. 'to_station_id'\n",
       "9. 'to_station_name'\n",
       "10. 'usertype'\n",
       "11. 'gender'\n",
       "12. 'birthyear'\n",
       "\n",
       "\n"
      ],
      "text/plain": [
       " [1] \"trip_id\"           \"start_time\"        \"end_time\"         \n",
       " [4] \"bikeid\"            \"tripduration\"      \"from_station_id\"  \n",
       " [7] \"from_station_name\" \"to_station_id\"     \"to_station_name\"  \n",
       "[10] \"usertype\"          \"gender\"            \"birthyear\"        "
      ]
     },
     "metadata": {},
     "output_type": "display_data"
    }
   ],
   "source": [
    "# Rename columns to make them consisent\n",
    "\n",
    "old <- c(\"01 - Rental Details Rental ID\",\n",
    "         \"01 - Rental Details Local Start Time\",\n",
    "         \"01 - Rental Details Local End Time\",\n",
    "         \"01 - Rental Details Bike ID\",\n",
    "         \"01 - Rental Details Duration In Seconds Uncapped\",\n",
    "         \"03 - Rental Start Station ID\",\n",
    "         \"03 - Rental Start Station Name\",\n",
    "         \"02 - Rental End Station ID\",\n",
    "         \"02 - Rental End Station Name\",\n",
    "         \"User Type\",\"Member Gender\",\n",
    "         \"05 - Member Details Member Birthday Year\")\n",
    "new <- c(\"trip_id\",\n",
    "         \"start_time\",\n",
    "         \"end_time\",\n",
    "         \"bikeid\",\n",
    "         \"tripduration\",\n",
    "         \"from_station_id\",\n",
    "         \"from_station_name\",\n",
    "         \"to_station_id\",\n",
    "         \"to_station_name\",\n",
    "         \"usertype\",\n",
    "         \"gender\",\n",
    "         \"birthyear\")\n",
    "q2_2019 <- q2_2019 %>% \n",
    "  rename_with(~ new, all_of(old))\n",
    "\n",
    "# Inspect the dataframes and look for inconguencies\n",
    "# str(q1_2019)\n",
    "# str(q2_2019)\n",
    "# str(q3_2019)\n",
    "# str(q4_2019)\n",
    "\n",
    "# Stack individual quarter's data frames into one big data frame\n",
    "all_trips <- bind_rows(q1_2019, q2_2019, q3_2019, q4_2019)\n",
    "\n",
    "# Compare column names each of the files\n",
    "# While the names don't have to be in the same order, they DO need to match perfectly before we can use a command to join them into one file\n",
    "colnames(q1_2019)\n",
    "colnames(q2_2019)\n",
    "colnames(q3_2019)\n",
    "colnames(q4_2019)"
   ]
  },
  {
   "cell_type": "markdown",
   "id": "1c45688b",
   "metadata": {
    "papermill": {
     "duration": 0.017342,
     "end_time": "2024-01-14T15:32:18.885791",
     "exception": false,
     "start_time": "2024-01-14T15:32:18.868449",
     "status": "completed"
    },
    "tags": []
   },
   "source": [
    "\n",
    "### 3.2 Inspect and clean data to prepare for analysis\n",
    "* #### Inspect the table of newly merged data\n"
   ]
  },
  {
   "cell_type": "code",
   "execution_count": 6,
   "id": "fdb9b651",
   "metadata": {
    "execution": {
     "iopub.execute_input": "2024-01-14T15:32:18.924679Z",
     "iopub.status.busy": "2024-01-14T15:32:18.922917Z",
     "iopub.status.idle": "2024-01-14T15:32:22.285471Z",
     "shell.execute_reply": "2024-01-14T15:32:22.283579Z"
    },
    "papermill": {
     "duration": 3.384779,
     "end_time": "2024-01-14T15:32:22.288143",
     "exception": false,
     "start_time": "2024-01-14T15:32:18.903364",
     "status": "completed"
    },
    "tags": []
   },
   "outputs": [
    {
     "data": {
      "text/html": [
       "<style>\n",
       ".list-inline {list-style: none; margin:0; padding: 0}\n",
       ".list-inline>li {display: inline-block}\n",
       ".list-inline>li:not(:last-child)::after {content: \"\\00b7\"; padding: 0 .5ex}\n",
       "</style>\n",
       "<ol class=list-inline><li>'trip_id'</li><li>'start_time'</li><li>'end_time'</li><li>'bikeid'</li><li>'tripduration'</li><li>'from_station_id'</li><li>'from_station_name'</li><li>'to_station_id'</li><li>'to_station_name'</li><li>'usertype'</li><li>'gender'</li><li>'birthyear'</li></ol>\n"
      ],
      "text/latex": [
       "\\begin{enumerate*}\n",
       "\\item 'trip\\_id'\n",
       "\\item 'start\\_time'\n",
       "\\item 'end\\_time'\n",
       "\\item 'bikeid'\n",
       "\\item 'tripduration'\n",
       "\\item 'from\\_station\\_id'\n",
       "\\item 'from\\_station\\_name'\n",
       "\\item 'to\\_station\\_id'\n",
       "\\item 'to\\_station\\_name'\n",
       "\\item 'usertype'\n",
       "\\item 'gender'\n",
       "\\item 'birthyear'\n",
       "\\end{enumerate*}\n"
      ],
      "text/markdown": [
       "1. 'trip_id'\n",
       "2. 'start_time'\n",
       "3. 'end_time'\n",
       "4. 'bikeid'\n",
       "5. 'tripduration'\n",
       "6. 'from_station_id'\n",
       "7. 'from_station_name'\n",
       "8. 'to_station_id'\n",
       "9. 'to_station_name'\n",
       "10. 'usertype'\n",
       "11. 'gender'\n",
       "12. 'birthyear'\n",
       "\n",
       "\n"
      ],
      "text/plain": [
       " [1] \"trip_id\"           \"start_time\"        \"end_time\"         \n",
       " [4] \"bikeid\"            \"tripduration\"      \"from_station_id\"  \n",
       " [7] \"from_station_name\" \"to_station_id\"     \"to_station_name\"  \n",
       "[10] \"usertype\"          \"gender\"            \"birthyear\"        "
      ]
     },
     "metadata": {},
     "output_type": "display_data"
    },
    {
     "data": {
      "text/html": [
       "3818004"
      ],
      "text/latex": [
       "3818004"
      ],
      "text/markdown": [
       "3818004"
      ],
      "text/plain": [
       "[1] 3818004"
      ]
     },
     "metadata": {},
     "output_type": "display_data"
    },
    {
     "data": {
      "text/html": [
       "<style>\n",
       ".list-inline {list-style: none; margin:0; padding: 0}\n",
       ".list-inline>li {display: inline-block}\n",
       ".list-inline>li:not(:last-child)::after {content: \"\\00b7\"; padding: 0 .5ex}\n",
       "</style>\n",
       "<ol class=list-inline><li>3818004</li><li>12</li></ol>\n"
      ],
      "text/latex": [
       "\\begin{enumerate*}\n",
       "\\item 3818004\n",
       "\\item 12\n",
       "\\end{enumerate*}\n"
      ],
      "text/markdown": [
       "1. 3818004\n",
       "2. 12\n",
       "\n",
       "\n"
      ],
      "text/plain": [
       "[1] 3818004      12"
      ]
     },
     "metadata": {},
     "output_type": "display_data"
    },
    {
     "data": {
      "text/html": [
       "<table class=\"dataframe\">\n",
       "<caption>A tibble: 6 × 12</caption>\n",
       "<thead>\n",
       "\t<tr><th scope=col>trip_id</th><th scope=col>start_time</th><th scope=col>end_time</th><th scope=col>bikeid</th><th scope=col>tripduration</th><th scope=col>from_station_id</th><th scope=col>from_station_name</th><th scope=col>to_station_id</th><th scope=col>to_station_name</th><th scope=col>usertype</th><th scope=col>gender</th><th scope=col>birthyear</th></tr>\n",
       "\t<tr><th scope=col>&lt;dbl&gt;</th><th scope=col>&lt;dttm&gt;</th><th scope=col>&lt;dttm&gt;</th><th scope=col>&lt;dbl&gt;</th><th scope=col>&lt;dbl&gt;</th><th scope=col>&lt;dbl&gt;</th><th scope=col>&lt;chr&gt;</th><th scope=col>&lt;dbl&gt;</th><th scope=col>&lt;chr&gt;</th><th scope=col>&lt;chr&gt;</th><th scope=col>&lt;chr&gt;</th><th scope=col>&lt;dbl&gt;</th></tr>\n",
       "</thead>\n",
       "<tbody>\n",
       "\t<tr><td>21742443</td><td>2019-01-01 00:04:37</td><td>2019-01-01 00:11:07</td><td>2167</td><td> 390</td><td>199</td><td><span style=white-space:pre-wrap>Wabash Ave &amp; Grand Ave             </span></td><td> 84</td><td><span style=white-space:pre-wrap>Milwaukee Ave &amp; Grand Ave     </span></td><td>Subscriber</td><td><span style=white-space:pre-wrap>Male  </span></td><td>1989</td></tr>\n",
       "\t<tr><td>21742444</td><td>2019-01-01 00:08:13</td><td>2019-01-01 00:15:34</td><td>4386</td><td> 441</td><td> 44</td><td><span style=white-space:pre-wrap>State St &amp; Randolph St             </span></td><td>624</td><td>Dearborn St &amp; Van Buren St (*)</td><td>Subscriber</td><td>Female</td><td>1990</td></tr>\n",
       "\t<tr><td>21742445</td><td>2019-01-01 00:13:23</td><td>2019-01-01 00:27:12</td><td>1524</td><td> 829</td><td> 15</td><td><span style=white-space:pre-wrap>Racine Ave &amp; 18th St               </span></td><td>644</td><td>Western Ave &amp; Fillmore St (*) </td><td>Subscriber</td><td>Female</td><td>1994</td></tr>\n",
       "\t<tr><td>21742446</td><td>2019-01-01 00:13:45</td><td>2019-01-01 00:43:28</td><td> 252</td><td>1783</td><td>123</td><td><span style=white-space:pre-wrap>California Ave &amp; Milwaukee Ave     </span></td><td>176</td><td><span style=white-space:pre-wrap>Clark St &amp; Elm St             </span></td><td>Subscriber</td><td><span style=white-space:pre-wrap>Male  </span></td><td>1993</td></tr>\n",
       "\t<tr><td>21742447</td><td>2019-01-01 00:14:52</td><td>2019-01-01 00:20:56</td><td>1170</td><td> 364</td><td>173</td><td>Mies van der Rohe Way &amp; Chicago Ave</td><td> 35</td><td><span style=white-space:pre-wrap>Streeter Dr &amp; Grand Ave       </span></td><td>Subscriber</td><td><span style=white-space:pre-wrap>Male  </span></td><td>1994</td></tr>\n",
       "\t<tr><td>21742448</td><td>2019-01-01 00:15:33</td><td>2019-01-01 00:19:09</td><td>2437</td><td> 216</td><td> 98</td><td><span style=white-space:pre-wrap>LaSalle St &amp; Washington St         </span></td><td> 49</td><td><span style=white-space:pre-wrap>Dearborn St &amp; Monroe St       </span></td><td>Subscriber</td><td>Female</td><td>1983</td></tr>\n",
       "</tbody>\n",
       "</table>\n"
      ],
      "text/latex": [
       "A tibble: 6 × 12\n",
       "\\begin{tabular}{llllllllllll}\n",
       " trip\\_id & start\\_time & end\\_time & bikeid & tripduration & from\\_station\\_id & from\\_station\\_name & to\\_station\\_id & to\\_station\\_name & usertype & gender & birthyear\\\\\n",
       " <dbl> & <dttm> & <dttm> & <dbl> & <dbl> & <dbl> & <chr> & <dbl> & <chr> & <chr> & <chr> & <dbl>\\\\\n",
       "\\hline\n",
       "\t 21742443 & 2019-01-01 00:04:37 & 2019-01-01 00:11:07 & 2167 &  390 & 199 & Wabash Ave \\& Grand Ave              &  84 & Milwaukee Ave \\& Grand Ave      & Subscriber & Male   & 1989\\\\\n",
       "\t 21742444 & 2019-01-01 00:08:13 & 2019-01-01 00:15:34 & 4386 &  441 &  44 & State St \\& Randolph St              & 624 & Dearborn St \\& Van Buren St (*) & Subscriber & Female & 1990\\\\\n",
       "\t 21742445 & 2019-01-01 00:13:23 & 2019-01-01 00:27:12 & 1524 &  829 &  15 & Racine Ave \\& 18th St                & 644 & Western Ave \\& Fillmore St (*)  & Subscriber & Female & 1994\\\\\n",
       "\t 21742446 & 2019-01-01 00:13:45 & 2019-01-01 00:43:28 &  252 & 1783 & 123 & California Ave \\& Milwaukee Ave      & 176 & Clark St \\& Elm St              & Subscriber & Male   & 1993\\\\\n",
       "\t 21742447 & 2019-01-01 00:14:52 & 2019-01-01 00:20:56 & 1170 &  364 & 173 & Mies van der Rohe Way \\& Chicago Ave &  35 & Streeter Dr \\& Grand Ave        & Subscriber & Male   & 1994\\\\\n",
       "\t 21742448 & 2019-01-01 00:15:33 & 2019-01-01 00:19:09 & 2437 &  216 &  98 & LaSalle St \\& Washington St          &  49 & Dearborn St \\& Monroe St        & Subscriber & Female & 1983\\\\\n",
       "\\end{tabular}\n"
      ],
      "text/markdown": [
       "\n",
       "A tibble: 6 × 12\n",
       "\n",
       "| trip_id &lt;dbl&gt; | start_time &lt;dttm&gt; | end_time &lt;dttm&gt; | bikeid &lt;dbl&gt; | tripduration &lt;dbl&gt; | from_station_id &lt;dbl&gt; | from_station_name &lt;chr&gt; | to_station_id &lt;dbl&gt; | to_station_name &lt;chr&gt; | usertype &lt;chr&gt; | gender &lt;chr&gt; | birthyear &lt;dbl&gt; |\n",
       "|---|---|---|---|---|---|---|---|---|---|---|---|\n",
       "| 21742443 | 2019-01-01 00:04:37 | 2019-01-01 00:11:07 | 2167 |  390 | 199 | Wabash Ave &amp; Grand Ave              |  84 | Milwaukee Ave &amp; Grand Ave      | Subscriber | Male   | 1989 |\n",
       "| 21742444 | 2019-01-01 00:08:13 | 2019-01-01 00:15:34 | 4386 |  441 |  44 | State St &amp; Randolph St              | 624 | Dearborn St &amp; Van Buren St (*) | Subscriber | Female | 1990 |\n",
       "| 21742445 | 2019-01-01 00:13:23 | 2019-01-01 00:27:12 | 1524 |  829 |  15 | Racine Ave &amp; 18th St                | 644 | Western Ave &amp; Fillmore St (*)  | Subscriber | Female | 1994 |\n",
       "| 21742446 | 2019-01-01 00:13:45 | 2019-01-01 00:43:28 |  252 | 1783 | 123 | California Ave &amp; Milwaukee Ave      | 176 | Clark St &amp; Elm St              | Subscriber | Male   | 1993 |\n",
       "| 21742447 | 2019-01-01 00:14:52 | 2019-01-01 00:20:56 | 1170 |  364 | 173 | Mies van der Rohe Way &amp; Chicago Ave |  35 | Streeter Dr &amp; Grand Ave        | Subscriber | Male   | 1994 |\n",
       "| 21742448 | 2019-01-01 00:15:33 | 2019-01-01 00:19:09 | 2437 |  216 |  98 | LaSalle St &amp; Washington St          |  49 | Dearborn St &amp; Monroe St        | Subscriber | Female | 1983 |\n",
       "\n"
      ],
      "text/plain": [
       "  trip_id  start_time          end_time            bikeid tripduration\n",
       "1 21742443 2019-01-01 00:04:37 2019-01-01 00:11:07 2167    390        \n",
       "2 21742444 2019-01-01 00:08:13 2019-01-01 00:15:34 4386    441        \n",
       "3 21742445 2019-01-01 00:13:23 2019-01-01 00:27:12 1524    829        \n",
       "4 21742446 2019-01-01 00:13:45 2019-01-01 00:43:28  252   1783        \n",
       "5 21742447 2019-01-01 00:14:52 2019-01-01 00:20:56 1170    364        \n",
       "6 21742448 2019-01-01 00:15:33 2019-01-01 00:19:09 2437    216        \n",
       "  from_station_id from_station_name                   to_station_id\n",
       "1 199             Wabash Ave & Grand Ave               84          \n",
       "2  44             State St & Randolph St              624          \n",
       "3  15             Racine Ave & 18th St                644          \n",
       "4 123             California Ave & Milwaukee Ave      176          \n",
       "5 173             Mies van der Rohe Way & Chicago Ave  35          \n",
       "6  98             LaSalle St & Washington St           49          \n",
       "  to_station_name                usertype   gender birthyear\n",
       "1 Milwaukee Ave & Grand Ave      Subscriber Male   1989     \n",
       "2 Dearborn St & Van Buren St (*) Subscriber Female 1990     \n",
       "3 Western Ave & Fillmore St (*)  Subscriber Female 1994     \n",
       "4 Clark St & Elm St              Subscriber Male   1993     \n",
       "5 Streeter Dr & Grand Ave        Subscriber Male   1994     \n",
       "6 Dearborn St & Monroe St        Subscriber Female 1983     "
      ]
     },
     "metadata": {},
     "output_type": "display_data"
    },
    {
     "name": "stdout",
     "output_type": "stream",
     "text": [
      "spc_tbl_ [3,818,004 × 12] (S3: spec_tbl_df/tbl_df/tbl/data.frame)\n",
      " $ trip_id          : num [1:3818004] 21742443 21742444 21742445 21742446 21742447 ...\n",
      " $ start_time       : POSIXct[1:3818004], format: \"2019-01-01 00:04:37\" \"2019-01-01 00:08:13\" ...\n",
      " $ end_time         : POSIXct[1:3818004], format: \"2019-01-01 00:11:07\" \"2019-01-01 00:15:34\" ...\n",
      " $ bikeid           : num [1:3818004] 2167 4386 1524 252 1170 ...\n",
      " $ tripduration     : num [1:3818004] 390 441 829 1783 364 ...\n",
      " $ from_station_id  : num [1:3818004] 199 44 15 123 173 98 98 211 150 268 ...\n",
      " $ from_station_name: chr [1:3818004] \"Wabash Ave & Grand Ave\" \"State St & Randolph St\" \"Racine Ave & 18th St\" \"California Ave & Milwaukee Ave\" ...\n",
      " $ to_station_id    : num [1:3818004] 84 624 644 176 35 49 49 142 148 141 ...\n",
      " $ to_station_name  : chr [1:3818004] \"Milwaukee Ave & Grand Ave\" \"Dearborn St & Van Buren St (*)\" \"Western Ave & Fillmore St (*)\" \"Clark St & Elm St\" ...\n",
      " $ usertype         : chr [1:3818004] \"Subscriber\" \"Subscriber\" \"Subscriber\" \"Subscriber\" ...\n",
      " $ gender           : chr [1:3818004] \"Male\" \"Female\" \"Female\" \"Male\" ...\n",
      " $ birthyear        : num [1:3818004] 1989 1990 1994 1993 1994 ...\n",
      " - attr(*, \"spec\")=\n",
      "  .. cols(\n",
      "  ..   trip_id = \u001b[32mcol_double()\u001b[39m,\n",
      "  ..   start_time = \u001b[34mcol_datetime(format = \"\")\u001b[39m,\n",
      "  ..   end_time = \u001b[34mcol_datetime(format = \"\")\u001b[39m,\n",
      "  ..   bikeid = \u001b[32mcol_double()\u001b[39m,\n",
      "  ..   tripduration = \u001b[32mcol_number()\u001b[39m,\n",
      "  ..   from_station_id = \u001b[32mcol_double()\u001b[39m,\n",
      "  ..   from_station_name = \u001b[31mcol_character()\u001b[39m,\n",
      "  ..   to_station_id = \u001b[32mcol_double()\u001b[39m,\n",
      "  ..   to_station_name = \u001b[31mcol_character()\u001b[39m,\n",
      "  ..   usertype = \u001b[31mcol_character()\u001b[39m,\n",
      "  ..   gender = \u001b[31mcol_character()\u001b[39m,\n",
      "  ..   birthyear = \u001b[32mcol_double()\u001b[39m\n",
      "  .. )\n",
      " - attr(*, \"problems\")=<externalptr> \n"
     ]
    },
    {
     "data": {
      "text/plain": [
       "    trip_id           start_time                     end_time                  \n",
       " Min.   :21742443   Min.   :2019-01-01 00:04:37   Min.   :2019-01-01 00:11:07  \n",
       " 1st Qu.:22873787   1st Qu.:2019-05-29 15:49:26   1st Qu.:2019-05-29 16:09:28  \n",
       " Median :23962320   Median :2019-07-25 17:50:54   Median :2019-07-25 18:12:23  \n",
       " Mean   :23915629   Mean   :2019-07-19 21:47:37   Mean   :2019-07-19 22:11:47  \n",
       " 3rd Qu.:24963703   3rd Qu.:2019-09-15 06:48:05   3rd Qu.:2019-09-15 08:30:13  \n",
       " Max.   :25962904   Max.   :2019-12-31 23:57:17   Max.   :2020-01-21 13:54:35  \n",
       "                                                                               \n",
       "     bikeid      tripduration      from_station_id from_station_name \n",
       " Min.   :   1   Min.   :      61   Min.   :  1.0   Length:3818004    \n",
       " 1st Qu.:1727   1st Qu.:     411   1st Qu.: 77.0   Class :character  \n",
       " Median :3451   Median :     709   Median :174.0   Mode  :character  \n",
       " Mean   :3380   Mean   :    1450   Mean   :201.7                     \n",
       " 3rd Qu.:5046   3rd Qu.:    1283   3rd Qu.:289.0                     \n",
       " Max.   :6946   Max.   :10628400   Max.   :673.0                     \n",
       "                                                                     \n",
       " to_station_id   to_station_name      usertype            gender         \n",
       " Min.   :  1.0   Length:3818004     Length:3818004     Length:3818004    \n",
       " 1st Qu.: 77.0   Class :character   Class :character   Class :character  \n",
       " Median :174.0   Mode  :character   Mode  :character   Mode  :character  \n",
       " Mean   :202.6                                                           \n",
       " 3rd Qu.:291.0                                                           \n",
       " Max.   :673.0                                                           \n",
       "                                                                         \n",
       "   birthyear     \n",
       " Min.   :1759    \n",
       " 1st Qu.:1979    \n",
       " Median :1987    \n",
       " Mean   :1984    \n",
       " 3rd Qu.:1992    \n",
       " Max.   :2014    \n",
       " NA's   :538751  "
      ]
     },
     "metadata": {},
     "output_type": "display_data"
    }
   ],
   "source": [
    "# Inspect the new table that has been created\n",
    "colnames(all_trips)  #List of column names\n",
    "nrow(all_trips)  #How many rows are in data frame?\n",
    "dim(all_trips)  #Dimensions of the data frame?\n",
    "head(all_trips)  #See the first 6 rows of data frame.  Also tail(qs_raw)\n",
    "str(all_trips)  #See list of columns and data types (numeric, character, etc)\n",
    "summary(all_trips)  #Statistical summary of data. Mainly for numerics"
   ]
  },
  {
   "cell_type": "markdown",
   "id": "a37efd7a",
   "metadata": {
    "papermill": {
     "duration": 0.018915,
     "end_time": "2024-01-14T15:32:22.325713",
     "exception": false,
     "start_time": "2024-01-14T15:32:22.306798",
     "status": "completed"
    },
    "tags": []
   },
   "source": [
    "* #### Check unique values in gender columns"
   ]
  },
  {
   "cell_type": "code",
   "execution_count": 7,
   "id": "a31bdf52",
   "metadata": {
    "execution": {
     "iopub.execute_input": "2024-01-14T15:32:22.368141Z",
     "iopub.status.busy": "2024-01-14T15:32:22.366467Z",
     "iopub.status.idle": "2024-01-14T15:32:22.972620Z",
     "shell.execute_reply": "2024-01-14T15:32:22.970484Z"
    },
    "papermill": {
     "duration": 0.6305,
     "end_time": "2024-01-14T15:32:22.975912",
     "exception": false,
     "start_time": "2024-01-14T15:32:22.345412",
     "status": "completed"
    },
    "tags": []
   },
   "outputs": [
    {
     "data": {
      "text/html": [
       "3"
      ],
      "text/latex": [
       "3"
      ],
      "text/markdown": [
       "3"
      ],
      "text/plain": [
       "[1] 3"
      ]
     },
     "metadata": {},
     "output_type": "display_data"
    },
    {
     "data": {
      "text/html": [
       "<style>\n",
       ".list-inline {list-style: none; margin:0; padding: 0}\n",
       ".list-inline>li {display: inline-block}\n",
       ".list-inline>li:not(:last-child)::after {content: \"\\00b7\"; padding: 0 .5ex}\n",
       "</style>\n",
       "<ol class=list-inline><li>'Male'</li><li>'Female'</li><li>NA</li></ol>\n"
      ],
      "text/latex": [
       "\\begin{enumerate*}\n",
       "\\item 'Male'\n",
       "\\item 'Female'\n",
       "\\item NA\n",
       "\\end{enumerate*}\n"
      ],
      "text/markdown": [
       "1. 'Male'\n",
       "2. 'Female'\n",
       "3. NA\n",
       "\n",
       "\n"
      ],
      "text/plain": [
       "[1] \"Male\"   \"Female\" NA      "
      ]
     },
     "metadata": {},
     "output_type": "display_data"
    },
    {
     "data": {
      "text/plain": [
       "\n",
       " Female    Male \n",
       " 857978 2400820 "
      ]
     },
     "metadata": {},
     "output_type": "display_data"
    }
   ],
   "source": [
    "# unique values in gender columns\n",
    "total_gender <- length(unique(all_trips$gender))\n",
    "View(total_gender)\n",
    "unique_gender <- unique(all_trips$gender)\n",
    "View(unique_gender)\n",
    "gender_counts <- table(all_trips$gender)\n",
    "View(gender_counts)"
   ]
  },
  {
   "cell_type": "markdown",
   "id": "f2632bfe",
   "metadata": {
    "papermill": {
     "duration": 0.020441,
     "end_time": "2024-01-14T15:32:23.015824",
     "exception": false,
     "start_time": "2024-01-14T15:32:22.995383",
     "status": "completed"
    },
    "tags": []
   },
   "source": [
    "* #### Check unique values in usertype column"
   ]
  },
  {
   "cell_type": "code",
   "execution_count": 8,
   "id": "fb709486",
   "metadata": {
    "execution": {
     "iopub.execute_input": "2024-01-14T15:32:23.059788Z",
     "iopub.status.busy": "2024-01-14T15:32:23.057893Z",
     "iopub.status.idle": "2024-01-14T15:32:23.543467Z",
     "shell.execute_reply": "2024-01-14T15:32:23.541562Z"
    },
    "papermill": {
     "duration": 0.510302,
     "end_time": "2024-01-14T15:32:23.546004",
     "exception": false,
     "start_time": "2024-01-14T15:32:23.035702",
     "status": "completed"
    },
    "tags": []
   },
   "outputs": [
    {
     "data": {
      "text/html": [
       "2"
      ],
      "text/latex": [
       "2"
      ],
      "text/markdown": [
       "2"
      ],
      "text/plain": [
       "[1] 2"
      ]
     },
     "metadata": {},
     "output_type": "display_data"
    },
    {
     "data": {
      "text/html": [
       "<style>\n",
       ".list-inline {list-style: none; margin:0; padding: 0}\n",
       ".list-inline>li {display: inline-block}\n",
       ".list-inline>li:not(:last-child)::after {content: \"\\00b7\"; padding: 0 .5ex}\n",
       "</style>\n",
       "<ol class=list-inline><li>'Subscriber'</li><li>'Customer'</li></ol>\n"
      ],
      "text/latex": [
       "\\begin{enumerate*}\n",
       "\\item 'Subscriber'\n",
       "\\item 'Customer'\n",
       "\\end{enumerate*}\n"
      ],
      "text/markdown": [
       "1. 'Subscriber'\n",
       "2. 'Customer'\n",
       "\n",
       "\n"
      ],
      "text/plain": [
       "[1] \"Subscriber\" \"Customer\"  "
      ]
     },
     "metadata": {},
     "output_type": "display_data"
    },
    {
     "data": {
      "text/plain": [
       "\n",
       "  Customer Subscriber \n",
       "    880637    2937367 "
      ]
     },
     "metadata": {},
     "output_type": "display_data"
    }
   ],
   "source": [
    "# unique values in usertype column\n",
    "total_usertype <- length(unique(all_trips$usertype))\n",
    "View(total_usertype)\n",
    "unique_usertype <- unique(all_trips$usertype)\n",
    "View(unique_usertype)\n",
    "table(all_trips$usertype)"
   ]
  },
  {
   "cell_type": "markdown",
   "id": "2693587f",
   "metadata": {
    "papermill": {
     "duration": 0.020029,
     "end_time": "2024-01-14T15:32:23.586781",
     "exception": false,
     "start_time": "2024-01-14T15:32:23.566752",
     "status": "completed"
    },
    "tags": []
   },
   "source": [
    "* #### Rename Subscriber to member and Customer to Casual"
   ]
  },
  {
   "cell_type": "code",
   "execution_count": 9,
   "id": "70da8ad0",
   "metadata": {
    "execution": {
     "iopub.execute_input": "2024-01-14T15:32:23.630546Z",
     "iopub.status.busy": "2024-01-14T15:32:23.628815Z",
     "iopub.status.idle": "2024-01-14T15:32:24.841415Z",
     "shell.execute_reply": "2024-01-14T15:32:24.839493Z"
    },
    "papermill": {
     "duration": 1.237408,
     "end_time": "2024-01-14T15:32:24.844015",
     "exception": false,
     "start_time": "2024-01-14T15:32:23.606607",
     "status": "completed"
    },
    "tags": []
   },
   "outputs": [
    {
     "data": {
      "text/plain": [
       "\n",
       " casual  member \n",
       " 880637 2937367 "
      ]
     },
     "metadata": {},
     "output_type": "display_data"
    }
   ],
   "source": [
    "# Renaming usertypes \n",
    "all_trips <-  all_trips %>% \n",
    "  mutate(usertype = recode(usertype\n",
    "                           ,\"Subscriber\" = \"member\"\n",
    "                           ,\"Customer\" = \"casual\"))\n",
    "# verify\n",
    "table(all_trips$usertype)"
   ]
  },
  {
   "cell_type": "markdown",
   "id": "b19c2868",
   "metadata": {
    "papermill": {
     "duration": 0.021174,
     "end_time": "2024-01-14T15:32:24.885272",
     "exception": false,
     "start_time": "2024-01-14T15:32:24.864098",
     "status": "completed"
    },
    "tags": []
   },
   "source": [
    "* #### Add columns that list the date, month, day, year, ride duration, weekday of each ride"
   ]
  },
  {
   "cell_type": "code",
   "execution_count": 10,
   "id": "766763ab",
   "metadata": {
    "execution": {
     "iopub.execute_input": "2024-01-14T15:32:24.932075Z",
     "iopub.status.busy": "2024-01-14T15:32:24.930164Z",
     "iopub.status.idle": "2024-01-14T15:32:30.689222Z",
     "shell.execute_reply": "2024-01-14T15:32:30.686732Z"
    },
    "papermill": {
     "duration": 5.785125,
     "end_time": "2024-01-14T15:32:30.692279",
     "exception": false,
     "start_time": "2024-01-14T15:32:24.907154",
     "status": "completed"
    },
    "tags": []
   },
   "outputs": [
    {
     "name": "stdout",
     "output_type": "stream",
     "text": [
      "tibble [3,818,004 × 18] (S3: tbl_df/tbl/data.frame)\n",
      " $ trip_id          : num [1:3818004] 21742443 21742444 21742445 21742446 21742447 ...\n",
      " $ start_time       : POSIXct[1:3818004], format: \"2019-01-01 00:04:37\" \"2019-01-01 00:08:13\" ...\n",
      " $ end_time         : POSIXct[1:3818004], format: \"2019-01-01 00:11:07\" \"2019-01-01 00:15:34\" ...\n",
      " $ bikeid           : num [1:3818004] 2167 4386 1524 252 1170 ...\n",
      " $ tripduration     : num [1:3818004] 390 441 829 1783 364 ...\n",
      " $ from_station_id  : num [1:3818004] 199 44 15 123 173 98 98 211 150 268 ...\n",
      " $ from_station_name: chr [1:3818004] \"Wabash Ave & Grand Ave\" \"State St & Randolph St\" \"Racine Ave & 18th St\" \"California Ave & Milwaukee Ave\" ...\n",
      " $ to_station_id    : num [1:3818004] 84 624 644 176 35 49 49 142 148 141 ...\n",
      " $ to_station_name  : chr [1:3818004] \"Milwaukee Ave & Grand Ave\" \"Dearborn St & Van Buren St (*)\" \"Western Ave & Fillmore St (*)\" \"Clark St & Elm St\" ...\n",
      " $ usertype         : chr [1:3818004] \"member\" \"member\" \"member\" \"member\" ...\n",
      " $ gender           : chr [1:3818004] \"Male\" \"Female\" \"Female\" \"Male\" ...\n",
      " $ birthyear        : num [1:3818004] 1989 1990 1994 1993 1994 ...\n",
      " $ date             : Date[1:3818004], format: \"2019-01-01\" \"2019-01-01\" ...\n",
      " $ month            : chr [1:3818004] \"01\" \"01\" \"01\" \"01\" ...\n",
      " $ day              : chr [1:3818004] \"01\" \"01\" \"01\" \"01\" ...\n",
      " $ year             : chr [1:3818004] \"2019\" \"2019\" \"2019\" \"2019\" ...\n",
      " $ day_of_week      : chr [1:3818004] \"Tuesday\" \"Tuesday\" \"Tuesday\" \"Tuesday\" ...\n",
      " $ ride_length      : 'difftime' num [1:3818004] 6.5 7.35 13.8166666666667 29.7166666666667 ...\n",
      "  ..- attr(*, \"units\")= chr \"mins\"\n"
     ]
    }
   ],
   "source": [
    "# Add columns that list the date, month, day, and year of each ride\n",
    "all_trips$date <- as.Date(all_trips$start_time) #The default format is yyyy-mm-dd\n",
    "all_trips$month <- format(as.Date(all_trips$date), \"%m\")\n",
    "all_trips$day <- format(as.Date(all_trips$date), \"%d\")\n",
    "all_trips$year <- format(as.Date(all_trips$date), \"%Y\")\n",
    "all_trips$day_of_week <- format(as.Date(all_trips$date), \"%A\")\n",
    "\n",
    "# Add a \"ride_length\" calculation to all_trips (in seconds)\n",
    "all_trips$ride_length <- difftime(all_trips$end_time, all_trips$start_time)\n",
    "\n",
    "# Inspect the structure of the columns\n",
    "str(all_trips)"
   ]
  },
  {
   "cell_type": "markdown",
   "id": "f41d6b91",
   "metadata": {
    "papermill": {
     "duration": 0.020099,
     "end_time": "2024-01-14T15:32:30.732733",
     "exception": false,
     "start_time": "2024-01-14T15:32:30.712634",
     "status": "completed"
    },
    "tags": []
   },
   "source": [
    "* #### Calculate and remove ride_length that are in negatives and then transfer it new dataframe"
   ]
  },
  {
   "cell_type": "code",
   "execution_count": 11,
   "id": "03e7f6aa",
   "metadata": {
    "execution": {
     "iopub.execute_input": "2024-01-14T15:32:30.779917Z",
     "iopub.status.busy": "2024-01-14T15:32:30.778043Z",
     "iopub.status.idle": "2024-01-14T15:32:37.895778Z",
     "shell.execute_reply": "2024-01-14T15:32:37.893697Z"
    },
    "papermill": {
     "duration": 7.144163,
     "end_time": "2024-01-14T15:32:37.898808",
     "exception": false,
     "start_time": "2024-01-14T15:32:30.754645",
     "status": "completed"
    },
    "tags": []
   },
   "outputs": [
    {
     "data": {
      "text/html": [
       "FALSE"
      ],
      "text/latex": [
       "FALSE"
      ],
      "text/markdown": [
       "FALSE"
      ],
      "text/plain": [
       "[1] FALSE"
      ]
     },
     "metadata": {},
     "output_type": "display_data"
    },
    {
     "data": {
      "text/html": [
       "TRUE"
      ],
      "text/latex": [
       "TRUE"
      ],
      "text/markdown": [
       "TRUE"
      ],
      "text/plain": [
       "[1] TRUE"
      ]
     },
     "metadata": {},
     "output_type": "display_data"
    },
    {
     "name": "stdout",
     "output_type": "stream",
     "text": [
      " num [1:3818004] 6.5 7.35 13.82 29.72 6.07 ...\n"
     ]
    },
    {
     "data": {
      "text/html": [
       "13"
      ],
      "text/latex": [
       "13"
      ],
      "text/markdown": [
       "13"
      ],
      "text/plain": [
       "[1] 13"
      ]
     },
     "metadata": {},
     "output_type": "display_data"
    },
    {
     "data": {
      "text/html": [
       "0"
      ],
      "text/latex": [
       "0"
      ],
      "text/markdown": [
       "0"
      ],
      "text/plain": [
       "[1] 0"
      ]
     },
     "metadata": {},
     "output_type": "display_data"
    }
   ],
   "source": [
    "# Convert \"ride_length\" from Factor to numeric so we can run calculations on the data\n",
    "\n",
    "is.factor(all_trips$ride_length)\n",
    "all_trips$ride_length <- as.numeric(as.character(all_trips$ride_length))\n",
    "is.numeric(all_trips$ride_length)\n",
    "str(all_trips$ride_length)\n",
    "\n",
    "# count ride_length values in negatives\n",
    "\n",
    "sum(all_trips$ride_length < 0)\n",
    "\n",
    "# remove negative rides in new dataset\n",
    "\n",
    "all_trips_v2 <- all_trips[!(all_trips$ride_length < 0),]\n",
    "\n",
    "# check ride_length values in negatives\n",
    "\n",
    "sum(all_trips_v2$ride_length < 0)"
   ]
  },
  {
   "cell_type": "markdown",
   "id": "3d4371d8",
   "metadata": {
    "papermill": {
     "duration": 0.02244,
     "end_time": "2024-01-14T15:32:37.942289",
     "exception": false,
     "start_time": "2024-01-14T15:32:37.919849",
     "status": "completed"
    },
    "tags": []
   },
   "source": [
    "# 4. Descriptive analysis <a class=\"anchor\" id=\"analyze\"></a>\n",
    "\n",
    "### 4.1 Descriptive analysis on ride_length(trip or ride duration)\n",
    "\n",
    "* #### A summary of ride trip duration\n"
   ]
  },
  {
   "cell_type": "code",
   "execution_count": 12,
   "id": "7d1ea7bb",
   "metadata": {
    "execution": {
     "iopub.execute_input": "2024-01-14T15:32:38.030185Z",
     "iopub.status.busy": "2024-01-14T15:32:38.028307Z",
     "iopub.status.idle": "2024-01-14T15:32:38.613765Z",
     "shell.execute_reply": "2024-01-14T15:32:38.611939Z"
    },
    "papermill": {
     "duration": 0.613191,
     "end_time": "2024-01-14T15:32:38.616441",
     "exception": false,
     "start_time": "2024-01-14T15:32:38.003250",
     "status": "completed"
    },
    "tags": []
   },
   "outputs": [
    {
     "data": {
      "text/plain": [
       "     Min.   1st Qu.    Median      Mean   3rd Qu.      Max. \n",
       "     1.02      6.85     11.82     24.17     21.40 177200.37 "
      ]
     },
     "metadata": {},
     "output_type": "display_data"
    }
   ],
   "source": [
    "summary(all_trips_v2$ride_length)"
   ]
  },
  {
   "cell_type": "markdown",
   "id": "a10222da",
   "metadata": {
    "papermill": {
     "duration": 0.021675,
     "end_time": "2024-01-14T15:32:38.659192",
     "exception": false,
     "start_time": "2024-01-14T15:32:38.637517",
     "status": "completed"
    },
    "tags": []
   },
   "source": [
    "### 4.2 Compare members and casual users by ride duration\n",
    "* #### Average ride duration"
   ]
  },
  {
   "cell_type": "code",
   "execution_count": 13,
   "id": "e4381733",
   "metadata": {
    "execution": {
     "iopub.execute_input": "2024-01-14T15:32:38.705971Z",
     "iopub.status.busy": "2024-01-14T15:32:38.704172Z",
     "iopub.status.idle": "2024-01-14T15:32:40.944731Z",
     "shell.execute_reply": "2024-01-14T15:32:40.942927Z"
    },
    "papermill": {
     "duration": 2.266998,
     "end_time": "2024-01-14T15:32:40.947479",
     "exception": false,
     "start_time": "2024-01-14T15:32:38.680481",
     "status": "completed"
    },
    "tags": []
   },
   "outputs": [
    {
     "data": {
      "text/html": [
       "<table class=\"dataframe\">\n",
       "<caption>A data.frame: 2 × 2</caption>\n",
       "<thead>\n",
       "\t<tr><th scope=col>all_trips_v2$usertype</th><th scope=col>all_trips_v2$ride_length</th></tr>\n",
       "\t<tr><th scope=col>&lt;chr&gt;</th><th scope=col>&lt;dbl&gt;</th></tr>\n",
       "</thead>\n",
       "<tbody>\n",
       "\t<tr><td>casual</td><td>57.01802</td></tr>\n",
       "\t<tr><td>member</td><td>14.32780</td></tr>\n",
       "</tbody>\n",
       "</table>\n"
      ],
      "text/latex": [
       "A data.frame: 2 × 2\n",
       "\\begin{tabular}{ll}\n",
       " all\\_trips\\_v2\\$usertype & all\\_trips\\_v2\\$ride\\_length\\\\\n",
       " <chr> & <dbl>\\\\\n",
       "\\hline\n",
       "\t casual & 57.01802\\\\\n",
       "\t member & 14.32780\\\\\n",
       "\\end{tabular}\n"
      ],
      "text/markdown": [
       "\n",
       "A data.frame: 2 × 2\n",
       "\n",
       "| all_trips_v2$usertype &lt;chr&gt; | all_trips_v2$ride_length &lt;dbl&gt; |\n",
       "|---|---|\n",
       "| casual | 57.01802 |\n",
       "| member | 14.32780 |\n",
       "\n"
      ],
      "text/plain": [
       "  all_trips_v2$usertype all_trips_v2$ride_length\n",
       "1 casual                57.01802                \n",
       "2 member                14.32780                "
      ]
     },
     "metadata": {},
     "output_type": "display_data"
    }
   ],
   "source": [
    "aggregate(all_trips_v2$ride_length ~ all_trips_v2$usertype, FUN = mean)"
   ]
  },
  {
   "cell_type": "markdown",
   "id": "de100c9f",
   "metadata": {
    "papermill": {
     "duration": 0.022186,
     "end_time": "2024-01-14T15:32:40.991627",
     "exception": false,
     "start_time": "2024-01-14T15:32:40.969441",
     "status": "completed"
    },
    "tags": []
   },
   "source": [
    "* #### Median of ride duration"
   ]
  },
  {
   "cell_type": "code",
   "execution_count": 14,
   "id": "ea7afbab",
   "metadata": {
    "execution": {
     "iopub.execute_input": "2024-01-14T15:32:41.040025Z",
     "iopub.status.busy": "2024-01-14T15:32:41.038211Z",
     "iopub.status.idle": "2024-01-14T15:32:43.316785Z",
     "shell.execute_reply": "2024-01-14T15:32:43.314777Z"
    },
    "papermill": {
     "duration": 2.30643,
     "end_time": "2024-01-14T15:32:43.319571",
     "exception": false,
     "start_time": "2024-01-14T15:32:41.013141",
     "status": "completed"
    },
    "tags": []
   },
   "outputs": [
    {
     "data": {
      "text/html": [
       "<table class=\"dataframe\">\n",
       "<caption>A data.frame: 2 × 2</caption>\n",
       "<thead>\n",
       "\t<tr><th scope=col>all_trips_v2$usertype</th><th scope=col>all_trips_v2$ride_length</th></tr>\n",
       "\t<tr><th scope=col>&lt;chr&gt;</th><th scope=col>&lt;dbl&gt;</th></tr>\n",
       "</thead>\n",
       "<tbody>\n",
       "\t<tr><td>casual</td><td>25.83333</td></tr>\n",
       "\t<tr><td>member</td><td> 9.80000</td></tr>\n",
       "</tbody>\n",
       "</table>\n"
      ],
      "text/latex": [
       "A data.frame: 2 × 2\n",
       "\\begin{tabular}{ll}\n",
       " all\\_trips\\_v2\\$usertype & all\\_trips\\_v2\\$ride\\_length\\\\\n",
       " <chr> & <dbl>\\\\\n",
       "\\hline\n",
       "\t casual & 25.83333\\\\\n",
       "\t member &  9.80000\\\\\n",
       "\\end{tabular}\n"
      ],
      "text/markdown": [
       "\n",
       "A data.frame: 2 × 2\n",
       "\n",
       "| all_trips_v2$usertype &lt;chr&gt; | all_trips_v2$ride_length &lt;dbl&gt; |\n",
       "|---|---|\n",
       "| casual | 25.83333 |\n",
       "| member |  9.80000 |\n",
       "\n"
      ],
      "text/plain": [
       "  all_trips_v2$usertype all_trips_v2$ride_length\n",
       "1 casual                25.83333                \n",
       "2 member                 9.80000                "
      ]
     },
     "metadata": {},
     "output_type": "display_data"
    }
   ],
   "source": [
    "aggregate(all_trips_v2$ride_length ~ all_trips_v2$usertype, FUN = median)"
   ]
  },
  {
   "cell_type": "markdown",
   "id": "95b0c68b",
   "metadata": {
    "papermill": {
     "duration": 0.023893,
     "end_time": "2024-01-14T15:32:43.366304",
     "exception": false,
     "start_time": "2024-01-14T15:32:43.342411",
     "status": "completed"
    },
    "tags": []
   },
   "source": [
    "* #### Maximum ride duration"
   ]
  },
  {
   "cell_type": "code",
   "execution_count": 15,
   "id": "4bfab753",
   "metadata": {
    "execution": {
     "iopub.execute_input": "2024-01-14T15:32:43.415300Z",
     "iopub.status.busy": "2024-01-14T15:32:43.413485Z",
     "iopub.status.idle": "2024-01-14T15:32:45.373941Z",
     "shell.execute_reply": "2024-01-14T15:32:45.371955Z"
    },
    "papermill": {
     "duration": 1.988059,
     "end_time": "2024-01-14T15:32:45.376645",
     "exception": false,
     "start_time": "2024-01-14T15:32:43.388586",
     "status": "completed"
    },
    "tags": []
   },
   "outputs": [
    {
     "data": {
      "text/html": [
       "<table class=\"dataframe\">\n",
       "<caption>A data.frame: 2 × 2</caption>\n",
       "<thead>\n",
       "\t<tr><th scope=col>all_trips_v2$usertype</th><th scope=col>all_trips_v2$ride_length</th></tr>\n",
       "\t<tr><th scope=col>&lt;chr&gt;</th><th scope=col>&lt;dbl&gt;</th></tr>\n",
       "</thead>\n",
       "<tbody>\n",
       "\t<tr><td>casual</td><td>177200.4</td></tr>\n",
       "\t<tr><td>member</td><td>150943.9</td></tr>\n",
       "</tbody>\n",
       "</table>\n"
      ],
      "text/latex": [
       "A data.frame: 2 × 2\n",
       "\\begin{tabular}{ll}\n",
       " all\\_trips\\_v2\\$usertype & all\\_trips\\_v2\\$ride\\_length\\\\\n",
       " <chr> & <dbl>\\\\\n",
       "\\hline\n",
       "\t casual & 177200.4\\\\\n",
       "\t member & 150943.9\\\\\n",
       "\\end{tabular}\n"
      ],
      "text/markdown": [
       "\n",
       "A data.frame: 2 × 2\n",
       "\n",
       "| all_trips_v2$usertype &lt;chr&gt; | all_trips_v2$ride_length &lt;dbl&gt; |\n",
       "|---|---|\n",
       "| casual | 177200.4 |\n",
       "| member | 150943.9 |\n",
       "\n"
      ],
      "text/plain": [
       "  all_trips_v2$usertype all_trips_v2$ride_length\n",
       "1 casual                177200.4                \n",
       "2 member                150943.9                "
      ]
     },
     "metadata": {},
     "output_type": "display_data"
    }
   ],
   "source": [
    "aggregate(all_trips_v2$ride_length ~ all_trips_v2$usertype, FUN = max)"
   ]
  },
  {
   "cell_type": "markdown",
   "id": "c99f8b83",
   "metadata": {
    "papermill": {
     "duration": 0.021797,
     "end_time": "2024-01-14T15:32:45.420510",
     "exception": false,
     "start_time": "2024-01-14T15:32:45.398713",
     "status": "completed"
    },
    "tags": []
   },
   "source": [
    "* #### Minimum ride duration"
   ]
  },
  {
   "cell_type": "code",
   "execution_count": 16,
   "id": "111c365b",
   "metadata": {
    "execution": {
     "iopub.execute_input": "2024-01-14T15:32:45.468440Z",
     "iopub.status.busy": "2024-01-14T15:32:45.466735Z",
     "iopub.status.idle": "2024-01-14T15:32:47.300769Z",
     "shell.execute_reply": "2024-01-14T15:32:47.298730Z"
    },
    "papermill": {
     "duration": 1.860873,
     "end_time": "2024-01-14T15:32:47.303555",
     "exception": false,
     "start_time": "2024-01-14T15:32:45.442682",
     "status": "completed"
    },
    "tags": []
   },
   "outputs": [
    {
     "data": {
      "text/html": [
       "<table class=\"dataframe\">\n",
       "<caption>A data.frame: 2 × 2</caption>\n",
       "<thead>\n",
       "\t<tr><th scope=col>all_trips_v2$usertype</th><th scope=col>all_trips_v2$ride_length</th></tr>\n",
       "\t<tr><th scope=col>&lt;chr&gt;</th><th scope=col>&lt;dbl&gt;</th></tr>\n",
       "</thead>\n",
       "<tbody>\n",
       "\t<tr><td>casual</td><td>1.016667</td></tr>\n",
       "\t<tr><td>member</td><td>1.016667</td></tr>\n",
       "</tbody>\n",
       "</table>\n"
      ],
      "text/latex": [
       "A data.frame: 2 × 2\n",
       "\\begin{tabular}{ll}\n",
       " all\\_trips\\_v2\\$usertype & all\\_trips\\_v2\\$ride\\_length\\\\\n",
       " <chr> & <dbl>\\\\\n",
       "\\hline\n",
       "\t casual & 1.016667\\\\\n",
       "\t member & 1.016667\\\\\n",
       "\\end{tabular}\n"
      ],
      "text/markdown": [
       "\n",
       "A data.frame: 2 × 2\n",
       "\n",
       "| all_trips_v2$usertype &lt;chr&gt; | all_trips_v2$ride_length &lt;dbl&gt; |\n",
       "|---|---|\n",
       "| casual | 1.016667 |\n",
       "| member | 1.016667 |\n",
       "\n"
      ],
      "text/plain": [
       "  all_trips_v2$usertype all_trips_v2$ride_length\n",
       "1 casual                1.016667                \n",
       "2 member                1.016667                "
      ]
     },
     "metadata": {},
     "output_type": "display_data"
    }
   ],
   "source": [
    "aggregate(all_trips_v2$ride_length ~ all_trips_v2$usertype, FUN = min)"
   ]
  },
  {
   "cell_type": "markdown",
   "id": "ac87d373",
   "metadata": {
    "papermill": {
     "duration": 0.022722,
     "end_time": "2024-01-14T15:32:47.348930",
     "exception": false,
     "start_time": "2024-01-14T15:32:47.326208",
     "status": "completed"
    },
    "tags": []
   },
   "source": [
    "### 4.3 Find average ride time by each day for members vs casual users"
   ]
  },
  {
   "cell_type": "code",
   "execution_count": 17,
   "id": "4feef31e",
   "metadata": {
    "execution": {
     "iopub.execute_input": "2024-01-14T15:32:47.398897Z",
     "iopub.status.busy": "2024-01-14T15:32:47.397102Z",
     "iopub.status.idle": "2024-01-14T15:32:49.697505Z",
     "shell.execute_reply": "2024-01-14T15:32:49.695520Z"
    },
    "papermill": {
     "duration": 2.328443,
     "end_time": "2024-01-14T15:32:49.700603",
     "exception": false,
     "start_time": "2024-01-14T15:32:47.372160",
     "status": "completed"
    },
    "tags": []
   },
   "outputs": [
    {
     "data": {
      "text/html": [
       "<table class=\"dataframe\">\n",
       "<caption>A data.frame: 14 × 3</caption>\n",
       "<thead>\n",
       "\t<tr><th scope=col>all_trips_v2$usertype</th><th scope=col>all_trips_v2$day_of_week</th><th scope=col>all_trips_v2$ride_length</th></tr>\n",
       "\t<tr><th scope=col>&lt;chr&gt;</th><th scope=col>&lt;chr&gt;</th><th scope=col>&lt;dbl&gt;</th></tr>\n",
       "</thead>\n",
       "<tbody>\n",
       "\t<tr><td>casual</td><td>Friday   </td><td>60.17561</td></tr>\n",
       "\t<tr><td>member</td><td>Friday   </td><td>13.89748</td></tr>\n",
       "\t<tr><td>casual</td><td>Monday   </td><td>54.49989</td></tr>\n",
       "\t<tr><td>member</td><td>Monday   </td><td>14.24928</td></tr>\n",
       "\t<tr><td>casual</td><td>Saturday </td><td>54.06111</td></tr>\n",
       "\t<tr><td>member</td><td>Saturday </td><td>16.30271</td></tr>\n",
       "\t<tr><td>casual</td><td>Sunday   </td><td>56.18519</td></tr>\n",
       "\t<tr><td>member</td><td>Sunday   </td><td>15.40290</td></tr>\n",
       "\t<tr><td>casual</td><td>Thursday </td><td>59.95112</td></tr>\n",
       "\t<tr><td>member</td><td>Thursday </td><td>13.77979</td></tr>\n",
       "\t<tr><td>casual</td><td>Tuesday  </td><td>57.41328</td></tr>\n",
       "\t<tr><td>member</td><td>Tuesday  </td><td>14.15259</td></tr>\n",
       "\t<tr><td>casual</td><td>Wednesday</td><td>60.33407</td></tr>\n",
       "\t<tr><td>member</td><td>Wednesday</td><td>13.80984</td></tr>\n",
       "</tbody>\n",
       "</table>\n"
      ],
      "text/latex": [
       "A data.frame: 14 × 3\n",
       "\\begin{tabular}{lll}\n",
       " all\\_trips\\_v2\\$usertype & all\\_trips\\_v2\\$day\\_of\\_week & all\\_trips\\_v2\\$ride\\_length\\\\\n",
       " <chr> & <chr> & <dbl>\\\\\n",
       "\\hline\n",
       "\t casual & Friday    & 60.17561\\\\\n",
       "\t member & Friday    & 13.89748\\\\\n",
       "\t casual & Monday    & 54.49989\\\\\n",
       "\t member & Monday    & 14.24928\\\\\n",
       "\t casual & Saturday  & 54.06111\\\\\n",
       "\t member & Saturday  & 16.30271\\\\\n",
       "\t casual & Sunday    & 56.18519\\\\\n",
       "\t member & Sunday    & 15.40290\\\\\n",
       "\t casual & Thursday  & 59.95112\\\\\n",
       "\t member & Thursday  & 13.77979\\\\\n",
       "\t casual & Tuesday   & 57.41328\\\\\n",
       "\t member & Tuesday   & 14.15259\\\\\n",
       "\t casual & Wednesday & 60.33407\\\\\n",
       "\t member & Wednesday & 13.80984\\\\\n",
       "\\end{tabular}\n"
      ],
      "text/markdown": [
       "\n",
       "A data.frame: 14 × 3\n",
       "\n",
       "| all_trips_v2$usertype &lt;chr&gt; | all_trips_v2$day_of_week &lt;chr&gt; | all_trips_v2$ride_length &lt;dbl&gt; |\n",
       "|---|---|---|\n",
       "| casual | Friday    | 60.17561 |\n",
       "| member | Friday    | 13.89748 |\n",
       "| casual | Monday    | 54.49989 |\n",
       "| member | Monday    | 14.24928 |\n",
       "| casual | Saturday  | 54.06111 |\n",
       "| member | Saturday  | 16.30271 |\n",
       "| casual | Sunday    | 56.18519 |\n",
       "| member | Sunday    | 15.40290 |\n",
       "| casual | Thursday  | 59.95112 |\n",
       "| member | Thursday  | 13.77979 |\n",
       "| casual | Tuesday   | 57.41328 |\n",
       "| member | Tuesday   | 14.15259 |\n",
       "| casual | Wednesday | 60.33407 |\n",
       "| member | Wednesday | 13.80984 |\n",
       "\n"
      ],
      "text/plain": [
       "   all_trips_v2$usertype all_trips_v2$day_of_week all_trips_v2$ride_length\n",
       "1  casual                Friday                   60.17561                \n",
       "2  member                Friday                   13.89748                \n",
       "3  casual                Monday                   54.49989                \n",
       "4  member                Monday                   14.24928                \n",
       "5  casual                Saturday                 54.06111                \n",
       "6  member                Saturday                 16.30271                \n",
       "7  casual                Sunday                   56.18519                \n",
       "8  member                Sunday                   15.40290                \n",
       "9  casual                Thursday                 59.95112                \n",
       "10 member                Thursday                 13.77979                \n",
       "11 casual                Tuesday                  57.41328                \n",
       "12 member                Tuesday                  14.15259                \n",
       "13 casual                Wednesday                60.33407                \n",
       "14 member                Wednesday                13.80984                "
      ]
     },
     "metadata": {},
     "output_type": "display_data"
    }
   ],
   "source": [
    "# See the average ride time by each day for members vs casual users\n",
    "aggregate(all_trips_v2$ride_length ~ all_trips_v2$usertype + all_trips_v2$day_of_week, FUN = mean)"
   ]
  },
  {
   "cell_type": "markdown",
   "id": "70cc1fd3",
   "metadata": {
    "papermill": {
     "duration": 0.023049,
     "end_time": "2024-01-14T15:32:49.746458",
     "exception": false,
     "start_time": "2024-01-14T15:32:49.723409",
     "status": "completed"
    },
    "tags": []
   },
   "source": [
    "### 4.4 Average ride time by days of the week\n",
    "* #### After noticing the days of week are out of order, arranged them in order of Sun to Sat."
   ]
  },
  {
   "cell_type": "code",
   "execution_count": 18,
   "id": "12de0b76",
   "metadata": {
    "execution": {
     "iopub.execute_input": "2024-01-14T15:32:49.797677Z",
     "iopub.status.busy": "2024-01-14T15:32:49.795874Z",
     "iopub.status.idle": "2024-01-14T15:32:52.091594Z",
     "shell.execute_reply": "2024-01-14T15:32:52.089587Z"
    },
    "papermill": {
     "duration": 2.323775,
     "end_time": "2024-01-14T15:32:52.094492",
     "exception": false,
     "start_time": "2024-01-14T15:32:49.770717",
     "status": "completed"
    },
    "tags": []
   },
   "outputs": [
    {
     "data": {
      "text/html": [
       "<table class=\"dataframe\">\n",
       "<caption>A data.frame: 14 × 3</caption>\n",
       "<thead>\n",
       "\t<tr><th scope=col>all_trips_v2$usertype</th><th scope=col>all_trips_v2$day_of_week</th><th scope=col>all_trips_v2$ride_length</th></tr>\n",
       "\t<tr><th scope=col>&lt;chr&gt;</th><th scope=col>&lt;ord&gt;</th><th scope=col>&lt;dbl&gt;</th></tr>\n",
       "</thead>\n",
       "<tbody>\n",
       "\t<tr><td>casual</td><td>Sunday   </td><td>56.18519</td></tr>\n",
       "\t<tr><td>member</td><td>Sunday   </td><td>15.40290</td></tr>\n",
       "\t<tr><td>casual</td><td>Monday   </td><td>54.49989</td></tr>\n",
       "\t<tr><td>member</td><td>Monday   </td><td>14.24928</td></tr>\n",
       "\t<tr><td>casual</td><td>Tuesday  </td><td>57.41328</td></tr>\n",
       "\t<tr><td>member</td><td>Tuesday  </td><td>14.15259</td></tr>\n",
       "\t<tr><td>casual</td><td>Wednesday</td><td>60.33407</td></tr>\n",
       "\t<tr><td>member</td><td>Wednesday</td><td>13.80984</td></tr>\n",
       "\t<tr><td>casual</td><td>Thursday </td><td>59.95112</td></tr>\n",
       "\t<tr><td>member</td><td>Thursday </td><td>13.77979</td></tr>\n",
       "\t<tr><td>casual</td><td>Friday   </td><td>60.17561</td></tr>\n",
       "\t<tr><td>member</td><td>Friday   </td><td>13.89748</td></tr>\n",
       "\t<tr><td>casual</td><td>Saturday </td><td>54.06111</td></tr>\n",
       "\t<tr><td>member</td><td>Saturday </td><td>16.30271</td></tr>\n",
       "</tbody>\n",
       "</table>\n"
      ],
      "text/latex": [
       "A data.frame: 14 × 3\n",
       "\\begin{tabular}{lll}\n",
       " all\\_trips\\_v2\\$usertype & all\\_trips\\_v2\\$day\\_of\\_week & all\\_trips\\_v2\\$ride\\_length\\\\\n",
       " <chr> & <ord> & <dbl>\\\\\n",
       "\\hline\n",
       "\t casual & Sunday    & 56.18519\\\\\n",
       "\t member & Sunday    & 15.40290\\\\\n",
       "\t casual & Monday    & 54.49989\\\\\n",
       "\t member & Monday    & 14.24928\\\\\n",
       "\t casual & Tuesday   & 57.41328\\\\\n",
       "\t member & Tuesday   & 14.15259\\\\\n",
       "\t casual & Wednesday & 60.33407\\\\\n",
       "\t member & Wednesday & 13.80984\\\\\n",
       "\t casual & Thursday  & 59.95112\\\\\n",
       "\t member & Thursday  & 13.77979\\\\\n",
       "\t casual & Friday    & 60.17561\\\\\n",
       "\t member & Friday    & 13.89748\\\\\n",
       "\t casual & Saturday  & 54.06111\\\\\n",
       "\t member & Saturday  & 16.30271\\\\\n",
       "\\end{tabular}\n"
      ],
      "text/markdown": [
       "\n",
       "A data.frame: 14 × 3\n",
       "\n",
       "| all_trips_v2$usertype &lt;chr&gt; | all_trips_v2$day_of_week &lt;ord&gt; | all_trips_v2$ride_length &lt;dbl&gt; |\n",
       "|---|---|---|\n",
       "| casual | Sunday    | 56.18519 |\n",
       "| member | Sunday    | 15.40290 |\n",
       "| casual | Monday    | 54.49989 |\n",
       "| member | Monday    | 14.24928 |\n",
       "| casual | Tuesday   | 57.41328 |\n",
       "| member | Tuesday   | 14.15259 |\n",
       "| casual | Wednesday | 60.33407 |\n",
       "| member | Wednesday | 13.80984 |\n",
       "| casual | Thursday  | 59.95112 |\n",
       "| member | Thursday  | 13.77979 |\n",
       "| casual | Friday    | 60.17561 |\n",
       "| member | Friday    | 13.89748 |\n",
       "| casual | Saturday  | 54.06111 |\n",
       "| member | Saturday  | 16.30271 |\n",
       "\n"
      ],
      "text/plain": [
       "   all_trips_v2$usertype all_trips_v2$day_of_week all_trips_v2$ride_length\n",
       "1  casual                Sunday                   56.18519                \n",
       "2  member                Sunday                   15.40290                \n",
       "3  casual                Monday                   54.49989                \n",
       "4  member                Monday                   14.24928                \n",
       "5  casual                Tuesday                  57.41328                \n",
       "6  member                Tuesday                  14.15259                \n",
       "7  casual                Wednesday                60.33407                \n",
       "8  member                Wednesday                13.80984                \n",
       "9  casual                Thursday                 59.95112                \n",
       "10 member                Thursday                 13.77979                \n",
       "11 casual                Friday                   60.17561                \n",
       "12 member                Friday                   13.89748                \n",
       "13 casual                Saturday                 54.06111                \n",
       "14 member                Saturday                 16.30271                "
      ]
     },
     "metadata": {},
     "output_type": "display_data"
    }
   ],
   "source": [
    "# Notice that the days of the week are out of order. Let's fix that.\n",
    "all_trips_v2$day_of_week <- ordered(all_trips_v2$day_of_week, levels=c(\"Sunday\", \"Monday\", \"Tuesday\", \"Wednesday\", \"Thursday\", \"Friday\", \"Saturday\"))\n",
    "\n",
    "# Now, let's run the average ride time by each day for members vs casual users\n",
    "aggregate(all_trips_v2$ride_length ~ all_trips_v2$usertype + all_trips_v2$day_of_week, FUN = mean)"
   ]
  },
  {
   "cell_type": "markdown",
   "id": "76d9a1fe",
   "metadata": {
    "papermill": {
     "duration": 0.023155,
     "end_time": "2024-01-14T15:32:52.142642",
     "exception": false,
     "start_time": "2024-01-14T15:32:52.119487",
     "status": "completed"
    },
    "tags": []
   },
   "source": [
    "### 4.5 No of rides and average duration by each day of the week"
   ]
  },
  {
   "cell_type": "code",
   "execution_count": 19,
   "id": "ef28e6f2",
   "metadata": {
    "execution": {
     "iopub.execute_input": "2024-01-14T15:32:52.193505Z",
     "iopub.status.busy": "2024-01-14T15:32:52.191702Z",
     "iopub.status.idle": "2024-01-14T15:32:56.366953Z",
     "shell.execute_reply": "2024-01-14T15:32:56.364460Z"
    },
    "papermill": {
     "duration": 4.204892,
     "end_time": "2024-01-14T15:32:56.370279",
     "exception": false,
     "start_time": "2024-01-14T15:32:52.165387",
     "status": "completed"
    },
    "tags": []
   },
   "outputs": [
    {
     "name": "stderr",
     "output_type": "stream",
     "text": [
      "\u001b[1m\u001b[22m`summarise()` has grouped output by 'usertype'. You can override using the\n",
      "`.groups` argument.\n"
     ]
    },
    {
     "data": {
      "text/html": [
       "<table class=\"dataframe\">\n",
       "<caption>A grouped_df: 14 × 4</caption>\n",
       "<thead>\n",
       "\t<tr><th scope=col>usertype</th><th scope=col>weekday</th><th scope=col>number_of_rides</th><th scope=col>average_duration</th></tr>\n",
       "\t<tr><th scope=col>&lt;chr&gt;</th><th scope=col>&lt;ord&gt;</th><th scope=col>&lt;int&gt;</th><th scope=col>&lt;dbl&gt;</th></tr>\n",
       "</thead>\n",
       "<tbody>\n",
       "\t<tr><td>casual</td><td>Sun</td><td>170173</td><td>56.18519</td></tr>\n",
       "\t<tr><td>casual</td><td>Mon</td><td>101489</td><td>54.49989</td></tr>\n",
       "\t<tr><td>casual</td><td>Tue</td><td> 88655</td><td>57.41328</td></tr>\n",
       "\t<tr><td>casual</td><td>Wed</td><td> 89745</td><td>60.33407</td></tr>\n",
       "\t<tr><td>casual</td><td>Thu</td><td>101372</td><td>59.95112</td></tr>\n",
       "\t<tr><td>casual</td><td>Fri</td><td>121141</td><td>60.17561</td></tr>\n",
       "\t<tr><td>casual</td><td>Sat</td><td>208056</td><td>54.06111</td></tr>\n",
       "\t<tr><td>member</td><td>Sun</td><td>256234</td><td>15.40290</td></tr>\n",
       "\t<tr><td>member</td><td>Mon</td><td>458780</td><td>14.24928</td></tr>\n",
       "\t<tr><td>member</td><td>Tue</td><td>497025</td><td>14.15259</td></tr>\n",
       "\t<tr><td>member</td><td>Wed</td><td>494277</td><td>13.80984</td></tr>\n",
       "\t<tr><td>member</td><td>Thu</td><td>486915</td><td>13.77979</td></tr>\n",
       "\t<tr><td>member</td><td>Fri</td><td>456966</td><td>13.89748</td></tr>\n",
       "\t<tr><td>member</td><td>Sat</td><td>287163</td><td>16.30271</td></tr>\n",
       "</tbody>\n",
       "</table>\n"
      ],
      "text/latex": [
       "A grouped\\_df: 14 × 4\n",
       "\\begin{tabular}{llll}\n",
       " usertype & weekday & number\\_of\\_rides & average\\_duration\\\\\n",
       " <chr> & <ord> & <int> & <dbl>\\\\\n",
       "\\hline\n",
       "\t casual & Sun & 170173 & 56.18519\\\\\n",
       "\t casual & Mon & 101489 & 54.49989\\\\\n",
       "\t casual & Tue &  88655 & 57.41328\\\\\n",
       "\t casual & Wed &  89745 & 60.33407\\\\\n",
       "\t casual & Thu & 101372 & 59.95112\\\\\n",
       "\t casual & Fri & 121141 & 60.17561\\\\\n",
       "\t casual & Sat & 208056 & 54.06111\\\\\n",
       "\t member & Sun & 256234 & 15.40290\\\\\n",
       "\t member & Mon & 458780 & 14.24928\\\\\n",
       "\t member & Tue & 497025 & 14.15259\\\\\n",
       "\t member & Wed & 494277 & 13.80984\\\\\n",
       "\t member & Thu & 486915 & 13.77979\\\\\n",
       "\t member & Fri & 456966 & 13.89748\\\\\n",
       "\t member & Sat & 287163 & 16.30271\\\\\n",
       "\\end{tabular}\n"
      ],
      "text/markdown": [
       "\n",
       "A grouped_df: 14 × 4\n",
       "\n",
       "| usertype &lt;chr&gt; | weekday &lt;ord&gt; | number_of_rides &lt;int&gt; | average_duration &lt;dbl&gt; |\n",
       "|---|---|---|---|\n",
       "| casual | Sun | 170173 | 56.18519 |\n",
       "| casual | Mon | 101489 | 54.49989 |\n",
       "| casual | Tue |  88655 | 57.41328 |\n",
       "| casual | Wed |  89745 | 60.33407 |\n",
       "| casual | Thu | 101372 | 59.95112 |\n",
       "| casual | Fri | 121141 | 60.17561 |\n",
       "| casual | Sat | 208056 | 54.06111 |\n",
       "| member | Sun | 256234 | 15.40290 |\n",
       "| member | Mon | 458780 | 14.24928 |\n",
       "| member | Tue | 497025 | 14.15259 |\n",
       "| member | Wed | 494277 | 13.80984 |\n",
       "| member | Thu | 486915 | 13.77979 |\n",
       "| member | Fri | 456966 | 13.89748 |\n",
       "| member | Sat | 287163 | 16.30271 |\n",
       "\n"
      ],
      "text/plain": [
       "   usertype weekday number_of_rides average_duration\n",
       "1  casual   Sun     170173          56.18519        \n",
       "2  casual   Mon     101489          54.49989        \n",
       "3  casual   Tue      88655          57.41328        \n",
       "4  casual   Wed      89745          60.33407        \n",
       "5  casual   Thu     101372          59.95112        \n",
       "6  casual   Fri     121141          60.17561        \n",
       "7  casual   Sat     208056          54.06111        \n",
       "8  member   Sun     256234          15.40290        \n",
       "9  member   Mon     458780          14.24928        \n",
       "10 member   Tue     497025          14.15259        \n",
       "11 member   Wed     494277          13.80984        \n",
       "12 member   Thu     486915          13.77979        \n",
       "13 member   Fri     456966          13.89748        \n",
       "14 member   Sat     287163          16.30271        "
      ]
     },
     "metadata": {},
     "output_type": "display_data"
    }
   ],
   "source": [
    "# analyze ridership data by type and weekday\n",
    "all_trips_v2 %>% \n",
    "  mutate(weekday = wday(start_time, label = TRUE)) %>%  #creates weekday field using wday()\n",
    "  group_by(usertype, weekday) %>%  #groups by usertype and weekday\n",
    "  summarise(number_of_rides = n()\t\t\t\t\t\t\t#calculates the number of rides and average duration \n",
    "  ,average_duration = mean(ride_length)) %>% \t\t# calculates the average duration\n",
    "  arrange(usertype, weekday)\t\t\t\t\t\t\t\t# sorts\n"
   ]
  },
  {
   "cell_type": "markdown",
   "id": "d3ea939b",
   "metadata": {
    "papermill": {
     "duration": 0.023461,
     "end_time": "2024-01-14T15:32:56.418322",
     "exception": false,
     "start_time": "2024-01-14T15:32:56.394861",
     "status": "completed"
    },
    "tags": []
   },
   "source": [
    "### 4.6 No of rides and average duration by each month"
   ]
  },
  {
   "cell_type": "code",
   "execution_count": 20,
   "id": "e0a5e26e",
   "metadata": {
    "execution": {
     "iopub.execute_input": "2024-01-14T15:32:56.470494Z",
     "iopub.status.busy": "2024-01-14T15:32:56.468181Z",
     "iopub.status.idle": "2024-01-14T15:32:57.297494Z",
     "shell.execute_reply": "2024-01-14T15:32:57.294871Z"
    },
    "papermill": {
     "duration": 0.858774,
     "end_time": "2024-01-14T15:32:57.300808",
     "exception": false,
     "start_time": "2024-01-14T15:32:56.442034",
     "status": "completed"
    },
    "tags": []
   },
   "outputs": [
    {
     "name": "stderr",
     "output_type": "stream",
     "text": [
      "\u001b[1m\u001b[22m`summarise()` has grouped output by 'usertype'. You can override using the\n",
      "`.groups` argument.\n"
     ]
    },
    {
     "data": {
      "text/html": [
       "<table class=\"dataframe\">\n",
       "<caption>A grouped_df: 24 × 4</caption>\n",
       "<thead>\n",
       "\t<tr><th scope=col>usertype</th><th scope=col>month_name</th><th scope=col>number_of_rides</th><th scope=col>average_duration</th></tr>\n",
       "\t<tr><th scope=col>&lt;chr&gt;</th><th scope=col>&lt;fct&gt;</th><th scope=col>&lt;int&gt;</th><th scope=col>&lt;dbl&gt;</th></tr>\n",
       "</thead>\n",
       "<tbody>\n",
       "\t<tr><td>casual</td><td>Jan</td><td>  4602</td><td> 47.32472</td></tr>\n",
       "\t<tr><td>casual</td><td>Feb</td><td>  2638</td><td>145.60485</td></tr>\n",
       "\t<tr><td>casual</td><td>Mar</td><td> 15923</td><td> 52.30590</td></tr>\n",
       "\t<tr><td>casual</td><td>Apr</td><td> 47744</td><td> 50.94245</td></tr>\n",
       "\t<tr><td>casual</td><td>May</td><td> 81624</td><td> 51.23836</td></tr>\n",
       "\t<tr><td>casual</td><td>Jun</td><td>130218</td><td> 45.92004</td></tr>\n",
       "\t<tr><td>casual</td><td>Jul</td><td>175632</td><td> 59.78382</td></tr>\n",
       "\t<tr><td>casual</td><td>Aug</td><td>186889</td><td> 67.00752</td></tr>\n",
       "\t<tr><td>casual</td><td>Sep</td><td>129173</td><td> 51.66670</td></tr>\n",
       "\t<tr><td>casual</td><td>Oct</td><td> 71035</td><td> 58.99215</td></tr>\n",
       "\t<tr><td>casual</td><td>Nov</td><td> 18723</td><td> 67.03276</td></tr>\n",
       "\t<tr><td>casual</td><td>Dec</td><td> 16430</td><td> 63.33266</td></tr>\n",
       "\t<tr><td>member</td><td>Jan</td><td> 98670</td><td> 15.65004</td></tr>\n",
       "\t<tr><td>member</td><td>Feb</td><td> 93548</td><td> 13.40362</td></tr>\n",
       "\t<tr><td>member</td><td>Mar</td><td>149688</td><td> 13.04035</td></tr>\n",
       "\t<tr><td>member</td><td>Apr</td><td>217566</td><td> 13.51279</td></tr>\n",
       "\t<tr><td>member</td><td>May</td><td>285834</td><td> 13.84990</td></tr>\n",
       "\t<tr><td>member</td><td>Jun</td><td>345177</td><td> 14.54744</td></tr>\n",
       "\t<tr><td>member</td><td>Jul</td><td>381683</td><td> 16.43333</td></tr>\n",
       "\t<tr><td>member</td><td>Aug</td><td>403295</td><td> 16.18554</td></tr>\n",
       "\t<tr><td>member</td><td>Sep</td><td>364046</td><td> 14.13065</td></tr>\n",
       "\t<tr><td>member</td><td>Oct</td><td>300751</td><td> 13.03089</td></tr>\n",
       "\t<tr><td>member</td><td>Nov</td><td>158440</td><td> 12.43207</td></tr>\n",
       "\t<tr><td>member</td><td>Dec</td><td>138662</td><td> 11.41516</td></tr>\n",
       "</tbody>\n",
       "</table>\n"
      ],
      "text/latex": [
       "A grouped\\_df: 24 × 4\n",
       "\\begin{tabular}{llll}\n",
       " usertype & month\\_name & number\\_of\\_rides & average\\_duration\\\\\n",
       " <chr> & <fct> & <int> & <dbl>\\\\\n",
       "\\hline\n",
       "\t casual & Jan &   4602 &  47.32472\\\\\n",
       "\t casual & Feb &   2638 & 145.60485\\\\\n",
       "\t casual & Mar &  15923 &  52.30590\\\\\n",
       "\t casual & Apr &  47744 &  50.94245\\\\\n",
       "\t casual & May &  81624 &  51.23836\\\\\n",
       "\t casual & Jun & 130218 &  45.92004\\\\\n",
       "\t casual & Jul & 175632 &  59.78382\\\\\n",
       "\t casual & Aug & 186889 &  67.00752\\\\\n",
       "\t casual & Sep & 129173 &  51.66670\\\\\n",
       "\t casual & Oct &  71035 &  58.99215\\\\\n",
       "\t casual & Nov &  18723 &  67.03276\\\\\n",
       "\t casual & Dec &  16430 &  63.33266\\\\\n",
       "\t member & Jan &  98670 &  15.65004\\\\\n",
       "\t member & Feb &  93548 &  13.40362\\\\\n",
       "\t member & Mar & 149688 &  13.04035\\\\\n",
       "\t member & Apr & 217566 &  13.51279\\\\\n",
       "\t member & May & 285834 &  13.84990\\\\\n",
       "\t member & Jun & 345177 &  14.54744\\\\\n",
       "\t member & Jul & 381683 &  16.43333\\\\\n",
       "\t member & Aug & 403295 &  16.18554\\\\\n",
       "\t member & Sep & 364046 &  14.13065\\\\\n",
       "\t member & Oct & 300751 &  13.03089\\\\\n",
       "\t member & Nov & 158440 &  12.43207\\\\\n",
       "\t member & Dec & 138662 &  11.41516\\\\\n",
       "\\end{tabular}\n"
      ],
      "text/markdown": [
       "\n",
       "A grouped_df: 24 × 4\n",
       "\n",
       "| usertype &lt;chr&gt; | month_name &lt;fct&gt; | number_of_rides &lt;int&gt; | average_duration &lt;dbl&gt; |\n",
       "|---|---|---|---|\n",
       "| casual | Jan |   4602 |  47.32472 |\n",
       "| casual | Feb |   2638 | 145.60485 |\n",
       "| casual | Mar |  15923 |  52.30590 |\n",
       "| casual | Apr |  47744 |  50.94245 |\n",
       "| casual | May |  81624 |  51.23836 |\n",
       "| casual | Jun | 130218 |  45.92004 |\n",
       "| casual | Jul | 175632 |  59.78382 |\n",
       "| casual | Aug | 186889 |  67.00752 |\n",
       "| casual | Sep | 129173 |  51.66670 |\n",
       "| casual | Oct |  71035 |  58.99215 |\n",
       "| casual | Nov |  18723 |  67.03276 |\n",
       "| casual | Dec |  16430 |  63.33266 |\n",
       "| member | Jan |  98670 |  15.65004 |\n",
       "| member | Feb |  93548 |  13.40362 |\n",
       "| member | Mar | 149688 |  13.04035 |\n",
       "| member | Apr | 217566 |  13.51279 |\n",
       "| member | May | 285834 |  13.84990 |\n",
       "| member | Jun | 345177 |  14.54744 |\n",
       "| member | Jul | 381683 |  16.43333 |\n",
       "| member | Aug | 403295 |  16.18554 |\n",
       "| member | Sep | 364046 |  14.13065 |\n",
       "| member | Oct | 300751 |  13.03089 |\n",
       "| member | Nov | 158440 |  12.43207 |\n",
       "| member | Dec | 138662 |  11.41516 |\n",
       "\n"
      ],
      "text/plain": [
       "   usertype month_name number_of_rides average_duration\n",
       "1  casual   Jan          4602           47.32472       \n",
       "2  casual   Feb          2638          145.60485       \n",
       "3  casual   Mar         15923           52.30590       \n",
       "4  casual   Apr         47744           50.94245       \n",
       "5  casual   May         81624           51.23836       \n",
       "6  casual   Jun        130218           45.92004       \n",
       "7  casual   Jul        175632           59.78382       \n",
       "8  casual   Aug        186889           67.00752       \n",
       "9  casual   Sep        129173           51.66670       \n",
       "10 casual   Oct         71035           58.99215       \n",
       "11 casual   Nov         18723           67.03276       \n",
       "12 casual   Dec         16430           63.33266       \n",
       "13 member   Jan         98670           15.65004       \n",
       "14 member   Feb         93548           13.40362       \n",
       "15 member   Mar        149688           13.04035       \n",
       "16 member   Apr        217566           13.51279       \n",
       "17 member   May        285834           13.84990       \n",
       "18 member   Jun        345177           14.54744       \n",
       "19 member   Jul        381683           16.43333       \n",
       "20 member   Aug        403295           16.18554       \n",
       "21 member   Sep        364046           14.13065       \n",
       "22 member   Oct        300751           13.03089       \n",
       "23 member   Nov        158440           12.43207       \n",
       "24 member   Dec        138662           11.41516       "
      ]
     },
     "metadata": {},
     "output_type": "display_data"
    }
   ],
   "source": [
    "all_trips_v2 %>%\n",
    "  mutate(month_name = month.abb[month(start_time)]) %>%\n",
    "  mutate(month_name = factor(month_name, levels = month.abb)) %>%\n",
    "  group_by(usertype, month_name) %>%\n",
    "  summarise(\n",
    "    number_of_rides = n(),\n",
    "    average_duration = mean(ride_length)\n",
    "  ) %>%\n",
    "  arrange(usertype, month_name)"
   ]
  },
  {
   "cell_type": "markdown",
   "id": "e06a72c9",
   "metadata": {
    "papermill": {
     "duration": 0.023782,
     "end_time": "2024-01-14T15:32:57.348227",
     "exception": false,
     "start_time": "2024-01-14T15:32:57.324445",
     "status": "completed"
    },
    "tags": []
   },
   "source": [
    "# 5. Visualize <a class=\"anchor\"  id=\"share\"></a>"
   ]
  },
  {
   "cell_type": "code",
   "execution_count": 21,
   "id": "17c55e08",
   "metadata": {
    "execution": {
     "iopub.execute_input": "2024-01-14T15:32:57.400588Z",
     "iopub.status.busy": "2024-01-14T15:32:57.398613Z",
     "iopub.status.idle": "2024-01-14T15:33:09.125728Z",
     "shell.execute_reply": "2024-01-14T15:33:09.122386Z"
    },
    "papermill": {
     "duration": 11.756933,
     "end_time": "2024-01-14T15:33:09.129389",
     "exception": false,
     "start_time": "2024-01-14T15:32:57.372456",
     "status": "completed"
    },
    "tags": []
   },
   "outputs": [
    {
     "name": "stderr",
     "output_type": "stream",
     "text": [
      "\u001b[1m\u001b[22m`summarise()` has grouped output by 'usertype'. You can override using the\n",
      "`.groups` argument.\n",
      "\u001b[1m\u001b[22m`summarise()` has grouped output by 'usertype'. You can override using the\n",
      "`.groups` argument.\n"
     ]
    },
    {
     "data": {
      "image/png": "[encoded data removed]"
     },
     "metadata": {
      "image/png": {
       "height": 420,
       "width": 420
      }
     },
     "output_type": "display_data"
    },
    {
     "name": "stderr",
     "output_type": "stream",
     "text": [
      "\u001b[1m\u001b[22m`summarise()` has grouped output by 'usertype'. You can override using the\n",
      "`.groups` argument.\n"
     ]
    },
    {
     "data": {
      "image/png": "[encoded data removed]"
     },
     "metadata": {
      "image/png": {
       "height": 420,
       "width": 420
      }
     },
     "output_type": "display_data"
    },
    {
     "name": "stderr",
     "output_type": "stream",
     "text": [
      "\u001b[1m\u001b[22m`summarise()` has grouped output by 'usertype'. You can override using the\n",
      "`.groups` argument.\n"
     ]
    },
    {
     "data": {
      "image/png": "[encoded data removed]"
     },
     "metadata": {
      "image/png": {
       "height": 420,
       "width": 420
      }
     },
     "output_type": "display_data"
    },
    {
     "data": {
      "image/png": "[encoded data removed]"
     },
     "metadata": {
      "image/png": {
       "height": 420,
       "width": 420
      }
     },
     "output_type": "display_data"
    }
   ],
   "source": [
    "library(ggplot2)\n",
    "library(dplyr)\n",
    "\n",
    "all_trips %>%\n",
    "mutate(weekday = wday(start_time, label = TRUE)) %>%\n",
    "group_by(usertype, weekday) %>%\n",
    "summarise(number_of_rides=n(),\n",
    "         average_duration = mean(ride_length)) %>%\n",
    "arrange(usertype, weekday) %>%\n",
    "ggplot(aes(x = weekday, y = number_of_rides, fill = usertype)) +\n",
    "  geom_col(position = 'dodge') +\n",
    "  labs(title = \"Number of Rides by weekday\",\n",
    "       x = \"Weekday\",\n",
    "       y = \"Number of Rides\") +\n",
    "  theme_minimal()\n",
    "\n",
    "# Let's create a visualization for average duration\n",
    "all_trips_v2 %>% \n",
    "  mutate(weekday = wday(start_time, label = TRUE)) %>% \n",
    "  group_by(usertype, weekday) %>% \n",
    "  summarise(number_of_rides = n()\n",
    "            ,average_duration = mean(ride_length)) %>% \n",
    "  arrange(usertype, weekday)  %>% \n",
    "  ggplot(aes(x = weekday, y = average_duration, fill = usertype)) +\n",
    "  geom_col(position = \"dodge\") +\n",
    "  labs(title = \"Average duration of rides by weekday\",\n",
    "       x = \"Weekday\",\n",
    "       y = \"Number of Rides\") +\n",
    "  theme_minimal()\n",
    "\n",
    "\n",
    "#  Number of rides by month and user type\n",
    "\n",
    "\n",
    "all_trips_v2 %>%\n",
    "  mutate(month_name = month.abb[month(start_time)]) %>%\n",
    "  mutate(month_name = factor(month_name, levels = month.abb)) %>%\n",
    "  group_by(usertype, month_name) %>%\n",
    "  summarise(\n",
    "    number_of_rides = n(),\n",
    "    average_duration = mean(ride_length)\n",
    "  ) %>%\n",
    "  arrange(usertype, month_name) %>%\n",
    "  ggplot(aes(x = month_name, y = number_of_rides, fill = usertype)) +\n",
    "  geom_bar(position = 'dodge', stat = 'identity') +\n",
    "  labs(title = \"Number of Rides by Month\",\n",
    "       x = \"Month\",\n",
    "       y = \"Number of Rides\") +\n",
    "  theme_minimal()\n",
    "\n",
    "# Average Duration by Month and User Type\n",
    "all_trips_v2 %>%\n",
    "  mutate(month_name = month.abb[month(start_time)]) %>%\n",
    "  mutate(month_name = factor(month_name, levels = month.abb)) %>%\n",
    "  group_by(usertype, month_name) %>%\n",
    "  summarise(\n",
    "    number_of_rides = n(),\n",
    "    average_duration = mean(ride_length)\n",
    "  ) %>%\n",
    "  arrange(usertype, month_name) %>%\n",
    "  ggplot(aes(x = month_name, y = average_duration, fill = usertype)) +\n",
    "  geom_bar(position = 'dodge', stat = 'identity') +\n",
    "  labs(title = \"Average Duration by Month\",\n",
    "       y = \"Average Duration\") +\n",
    "  theme_minimal()"
   ]
  },
  {
   "cell_type": "markdown",
   "id": "e7c14f4e",
   "metadata": {
    "papermill": {
     "duration": 0.028154,
     "end_time": "2024-01-14T15:33:09.185195",
     "exception": false,
     "start_time": "2024-01-14T15:33:09.157041",
     "status": "completed"
    },
    "tags": []
   },
   "source": [
    "# 6. Conclusion: <a class=\"anchor\"  id=\"act\"></a>\n",
    "\n",
    "### 1. Casual vs. Member Usage:\n",
    "   - Casual users exhibit significantly longer average ride durations compared to members.\n",
    "   - Casual riders contribute substantially to weekend rides, particularly on Saturdays and Sundays, while member rides are evenly spread throughout the week.\n",
    "\n",
    "### 2. Weekday Analysis:\n",
    "   - Both casual and member riders experience an increase in rides from Monday to Friday, with Friday being the peak day for casual users.\n",
    "   - Member riders, however, show a distinctive peak on Mondays and a gradual decline through the week.\n",
    "\n",
    "### 3. Monthly Trends:\n",
    "   - Casual ridership peaks during the summer months, notably in July and August, suggesting a potential tourist or seasonal rider trend.\n",
    "   - Member ridership remains relatively consistent, with a slight dip during the winter months.\n",
    "\n",
    "### 4. Average Duration:\n",
    "   - Casual riders consistently have longer average ride durations across all weekdays and months compared to members."
   ]
  },
  {
   "cell_type": "markdown",
   "id": "3378dca8",
   "metadata": {
    "papermill": {
     "duration": 0.027422,
     "end_time": "2024-01-14T15:33:09.239600",
     "exception": false,
     "start_time": "2024-01-14T15:33:09.212178",
     "status": "completed"
    },
    "tags": []
   },
   "source": [
    "\n",
    "## Recommendations:\n",
    "\n",
    "### 1. Promotion Strategies:\n",
    "   - Implement targeted promotions or marketing campaigns for casual users during the summer months to capitalize on peak ridership.\n",
    "   - Consider offering incentives or promotions for member riders on weekdays, especially on Mondays when member rides peak.\n",
    "\n",
    "### 2. Service Optimization:\n",
    "   - Enhance bike availability and service quality during weekends, particularly on Saturdays and Sundays, to accommodate higher demand from casual riders.\n",
    "   - Explore the potential for introducing shorter-duration ride options to cater to the preferences of member riders who generally prefer shorter rides.\n",
    "\n",
    "### 3. User Engagement:\n",
    "   - Encourage user engagement through loyalty programs or exclusive offers for members to boost retention and loyalty year-round.\n",
    "   - Solicit feedback from both casual and member riders to understand preferences and enhance overall user experience.\n",
    "\n",
    "### 4. Infrastructure Planning:\n",
    "   - Assess the need for additional bike stations or resources during peak months, especially in areas with high casual ridership, to ensure a seamless experience for all users.\n",
    "\n",
    "By implementing these recommendations, the bike-sharing service can improve its offerings, attract and retain users, and optimize operations based on observed patterns in user behavior."
   ]
  },
  {
   "cell_type": "markdown",
   "id": "123d1ee7",
   "metadata": {
    "papermill": {
     "duration": 0.027335,
     "end_time": "2024-01-14T15:33:09.295399",
     "exception": false,
     "start_time": "2024-01-14T15:33:09.268064",
     "status": "completed"
    },
    "tags": []
   },
   "source": [
    "## 7. Export Summary File For Further Analysis"
   ]
  },
  {
   "cell_type": "code",
   "execution_count": 22,
   "id": "b9398eca",
   "metadata": {
    "execution": {
     "iopub.execute_input": "2024-01-14T15:33:09.354105Z",
     "iopub.status.busy": "2024-01-14T15:33:09.352360Z",
     "iopub.status.idle": "2024-01-14T15:33:11.539109Z",
     "shell.execute_reply": "2024-01-14T15:33:11.537175Z"
    },
    "papermill": {
     "duration": 2.218978,
     "end_time": "2024-01-14T15:33:11.541966",
     "exception": false,
     "start_time": "2024-01-14T15:33:09.322988",
     "status": "completed"
    },
    "tags": []
   },
   "outputs": [
    {
     "data": {
      "text/html": [
       "<table class=\"dataframe\">\n",
       "<caption>A data.frame: 14 × 3</caption>\n",
       "<thead>\n",
       "\t<tr><th scope=col>all_trips_v2$usertype</th><th scope=col>all_trips_v2$day_of_week</th><th scope=col>all_trips_v2$ride_length</th></tr>\n",
       "\t<tr><th scope=col>&lt;chr&gt;</th><th scope=col>&lt;ord&gt;</th><th scope=col>&lt;dbl&gt;</th></tr>\n",
       "</thead>\n",
       "<tbody>\n",
       "\t<tr><td>casual</td><td>Sunday   </td><td>56.18519</td></tr>\n",
       "\t<tr><td>member</td><td>Sunday   </td><td>15.40290</td></tr>\n",
       "\t<tr><td>casual</td><td>Monday   </td><td>54.49989</td></tr>\n",
       "\t<tr><td>member</td><td>Monday   </td><td>14.24928</td></tr>\n",
       "\t<tr><td>casual</td><td>Tuesday  </td><td>57.41328</td></tr>\n",
       "\t<tr><td>member</td><td>Tuesday  </td><td>14.15259</td></tr>\n",
       "\t<tr><td>casual</td><td>Wednesday</td><td>60.33407</td></tr>\n",
       "\t<tr><td>member</td><td>Wednesday</td><td>13.80984</td></tr>\n",
       "\t<tr><td>casual</td><td>Thursday </td><td>59.95112</td></tr>\n",
       "\t<tr><td>member</td><td>Thursday </td><td>13.77979</td></tr>\n",
       "\t<tr><td>casual</td><td>Friday   </td><td>60.17561</td></tr>\n",
       "\t<tr><td>member</td><td>Friday   </td><td>13.89748</td></tr>\n",
       "\t<tr><td>casual</td><td>Saturday </td><td>54.06111</td></tr>\n",
       "\t<tr><td>member</td><td>Saturday </td><td>16.30271</td></tr>\n",
       "</tbody>\n",
       "</table>\n"
      ],
      "text/latex": [
       "A data.frame: 14 × 3\n",
       "\\begin{tabular}{lll}\n",
       " all\\_trips\\_v2\\$usertype & all\\_trips\\_v2\\$day\\_of\\_week & all\\_trips\\_v2\\$ride\\_length\\\\\n",
       " <chr> & <ord> & <dbl>\\\\\n",
       "\\hline\n",
       "\t casual & Sunday    & 56.18519\\\\\n",
       "\t member & Sunday    & 15.40290\\\\\n",
       "\t casual & Monday    & 54.49989\\\\\n",
       "\t member & Monday    & 14.24928\\\\\n",
       "\t casual & Tuesday   & 57.41328\\\\\n",
       "\t member & Tuesday   & 14.15259\\\\\n",
       "\t casual & Wednesday & 60.33407\\\\\n",
       "\t member & Wednesday & 13.80984\\\\\n",
       "\t casual & Thursday  & 59.95112\\\\\n",
       "\t member & Thursday  & 13.77979\\\\\n",
       "\t casual & Friday    & 60.17561\\\\\n",
       "\t member & Friday    & 13.89748\\\\\n",
       "\t casual & Saturday  & 54.06111\\\\\n",
       "\t member & Saturday  & 16.30271\\\\\n",
       "\\end{tabular}\n"
      ],
      "text/markdown": [
       "\n",
       "A data.frame: 14 × 3\n",
       "\n",
       "| all_trips_v2$usertype &lt;chr&gt; | all_trips_v2$day_of_week &lt;ord&gt; | all_trips_v2$ride_length &lt;dbl&gt; |\n",
       "|---|---|---|\n",
       "| casual | Sunday    | 56.18519 |\n",
       "| member | Sunday    | 15.40290 |\n",
       "| casual | Monday    | 54.49989 |\n",
       "| member | Monday    | 14.24928 |\n",
       "| casual | Tuesday   | 57.41328 |\n",
       "| member | Tuesday   | 14.15259 |\n",
       "| casual | Wednesday | 60.33407 |\n",
       "| member | Wednesday | 13.80984 |\n",
       "| casual | Thursday  | 59.95112 |\n",
       "| member | Thursday  | 13.77979 |\n",
       "| casual | Friday    | 60.17561 |\n",
       "| member | Friday    | 13.89748 |\n",
       "| casual | Saturday  | 54.06111 |\n",
       "| member | Saturday  | 16.30271 |\n",
       "\n"
      ],
      "text/plain": [
       "   all_trips_v2$usertype all_trips_v2$day_of_week all_trips_v2$ride_length\n",
       "1  casual                Sunday                   56.18519                \n",
       "2  member                Sunday                   15.40290                \n",
       "3  casual                Monday                   54.49989                \n",
       "4  member                Monday                   14.24928                \n",
       "5  casual                Tuesday                  57.41328                \n",
       "6  member                Tuesday                  14.15259                \n",
       "7  casual                Wednesday                60.33407                \n",
       "8  member                Wednesday                13.80984                \n",
       "9  casual                Thursday                 59.95112                \n",
       "10 member                Thursday                 13.77979                \n",
       "11 casual                Friday                   60.17561                \n",
       "12 member                Friday                   13.89748                \n",
       "13 casual                Saturday                 54.06111                \n",
       "14 member                Saturday                 16.30271                "
      ]
     },
     "metadata": {},
     "output_type": "display_data"
    }
   ],
   "source": [
    "counts <- aggregate(all_trips_v2$ride_length ~ all_trips_v2$usertype + all_trips_v2$day_of_week, FUN = mean)\n",
    "View(counts)"
   ]
  }
 ],
 "metadata": {
  "kaggle": {
   "accelerator": "none",
   "dataSources": [
    {
     "datasetId": 4179673,
     "sourceId": 7221245,
     "sourceType": "datasetVersion"
    }
   ],
   "dockerImageVersionId": 30618,
   "isGpuEnabled": false,
   "isInternetEnabled": true,
   "language": "r",
   "sourceType": "notebook"
  },
  "kernelspec": {
   "display_name": "R",
   "language": "R",
   "name": "ir"
  },
  "language_info": {
   "codemirror_mode": "r",
   "file_extension": ".r",
   "mimetype": "text/x-r-source",
   "name": "R",
   "pygments_lexer": "r",
   "version": "4.0.5"
  },
  "papermill": {
   "default_parameters": {},
   "duration": 69.586648,
   "end_time": "2024-01-14T15:33:11.994788",
   "environment_variables": {},
   "exception": null,
   "input_path": "__notebook__.ipynb",
   "output_path": "__notebook__.ipynb",
   "parameters": {},
   "start_time": "2024-01-14T15:32:02.408140",
   "version": "2.5.0"
  }
 },
 "nbformat": 4,
 "nbformat_minor": 5
}
